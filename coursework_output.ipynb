{
 "cells": [
  {
   "attachments": {},
   "cell_type": "markdown",
   "metadata": {},
   "source": [
    "# Introduction\n",
    "\n",
    "In our interconnected world, financial stability and responsible money management are vital. A key element in evaluating the financial health of an individual is the credit score. The credit score significantly impacts prospects when you apply for a loan, rent an apartment, or seek employment. Understanding credit score classification is crucial for financial services companies to make informed decisions regarding lending, providing guarantees, etc.\n",
    "\n",
    "Businesses, banks, governments, insurance companies, and car companies are interested in knowing an individual's credit score because it provides them with a quick assessment of the person's creditworthiness.\n",
    "\n",
    "A credit score is a numerical representation of an individual's credit history and helps these entities evaluate the likelihood of the person repaying their debts or fulfilling their financial obligations.\n",
    "\n",
    "A good credit score indicates that an individual has a history of responsibly managing their debts. Lenders, such as banks and financial institutions, use credit scores to assess the risk involved in lending money. A higher credit score increases the chances of obtaining loans at favourable terms, such as lower interest rates.\n",
    "\n",
    "Companies, banks, and financial institutions can leverage credit score data and analysis to help customers gain a better understanding of how certain factors, such as delayed payments or outstanding debt, impact their credit score. By utilizing this information, they can effectively educate customers on the significance of these features and how they contribute to their overall creditworthiness.\n",
    "\n",
    "We have selected the \"Credit Score Classification\" dataset, obtained from Kaggle.com and created by Paris Rohan[1]. This dataset offers a range of columns that provide valuable insights into credit score categorization. These columns include age, occupation, annual income, the number of credit cards taken, types of loans and their amounts, if and by how much a delay in payment occurs, changes in credit limits, and the number of credit inquiries. The credit history for each individual is classified monthly from January to August, allowing for a comprehensive analysis of credit-related factors over time. In summary, the \"Credit Score Classification\" dataset offers a wealth of valuable information for studying credit score classification and the factors that influence it.\n",
    "\n",
    "Using various Applied Machine learning models, we can obtain a method that uses this credit-related information to appropriately classify individuals in their credit classification for individuals. By exploring the dataset's features, we can extract valuable insights into the elements that contribute to credit classification. This analysis allows us to uncover patterns, correlations, and trends that enhance our understanding of creditworthiness.\n",
    "\n",
    "The table below summarises the model utilised for the coursework"
   ]
  },
  {
   "attachments": {},
   "cell_type": "markdown",
   "metadata": {},
   "source": [
    "| Class | Machine Learning Model | Description |\n",
    "| ----- | ---------------------- | ----------- |\n",
    "| 1 | Decision Tree | Decision tree, a form of nested regression has been used as it works well for classification problems. |\n",
    "| 2-3 | Random Forest, K Neighbours, Elastic Net | These advanced regression models were chosen as they are particularly useful where there is a non-linear relation between variables, and we aim to obtain the feature importance. |\n",
    "| 4 | Neural Networks | This deep learning ML model allows to specify some direct features while passing other predictors through hidden layers enabling an easy approach to model complex relations. |\n",
    "| 5 | Natural Language Processing | We have not used any NLP model for our analysis since our data does not contain textual content. |"
   ]
  },
  {
   "cell_type": "code",
   "execution_count": 77,
   "metadata": {},
   "outputs": [],
   "source": [
    "import numpy as np\n",
    "import pandas as pd\n",
    "\n",
    "import matplotlib.pyplot as plt\n",
    "\n",
    "from scipy.stats import iqr\n",
    "\n",
    "from sklearn.model_selection import train_test_split, GridSearchCV\n",
    "from sklearn.neighbors import KNeighborsClassifier\n",
    "from sklearn.preprocessing import MinMaxScaler\n",
    "from sklearn.ensemble import RandomForestClassifier\n",
    "from sklearn.metrics import accuracy_score, classification_report, confusion_matrix, mean_squared_error\n",
    "from sklearn.linear_model import ElasticNet\n",
    "from sklearn.preprocessing import OneHotEncoder\n",
    "from sklearn.tree  import DecisionTreeClassifier\n",
    "\n",
    "import tensorflow as tf\n",
    "from tensorflow import keras\n",
    "import keras_tuner as kt\n",
    "from keras.wrappers.scikit_learn import KerasClassifier\n",
    "import eli5\n",
    "from eli5.sklearn import PermutationImportance\n",
    "\n",
    "from imblearn.over_sampling import SMOTE"
   ]
  },
  {
   "attachments": {},
   "cell_type": "markdown",
   "metadata": {},
   "source": [
    "Creating a function to convert categorical columns to numeric columns using OneHotEnoder()"
   ]
  },
  {
   "cell_type": "code",
   "execution_count": 78,
   "metadata": {},
   "outputs": [],
   "source": [
    "def one_hot_encoding(dataframe, col_name):\n",
    "    enc = OneHotEncoder()\n",
    "    cat = enc.fit_transform(dataframe[col_name].values.reshape(-1, 1)).toarray()\n",
    "    dataframe_2 = pd.DataFrame(cat, columns=enc.get_feature_names_out())\n",
    "    dataframe = pd.concat([dataframe, dataframe_2], axis=1)\n",
    "    dataframe = dataframe.drop(col_name, axis=1)\n",
    "    return dataframe"
   ]
  },
  {
   "attachments": {},
   "cell_type": "markdown",
   "metadata": {},
   "source": [
    "Exploring the structure and key statistics of the data, checking for NA values."
   ]
  },
  {
   "cell_type": "code",
   "execution_count": 79,
   "metadata": {},
   "outputs": [
    {
     "name": "stderr",
     "output_type": "stream",
     "text": [
      "/var/folders/rk/7xsp5tcd2hlg9cvhq74cfnq00000gn/T/ipykernel_34915/3631686437.py:1: DtypeWarning: Columns (26) have mixed types. Specify dtype option on import or set low_memory=False.\n",
      "  df = pd.read_csv('train.csv')\n"
     ]
    },
    {
     "name": "stdout",
     "output_type": "stream",
     "text": [
      "<class 'pandas.core.frame.DataFrame'>\n",
      "RangeIndex: 100000 entries, 0 to 99999\n",
      "Data columns (total 28 columns):\n",
      " #   Column                    Non-Null Count   Dtype  \n",
      "---  ------                    --------------   -----  \n",
      " 0   ID                        100000 non-null  object \n",
      " 1   Customer_ID               100000 non-null  object \n",
      " 2   Month                     100000 non-null  object \n",
      " 3   Name                      90015 non-null   object \n",
      " 4   Age                       100000 non-null  object \n",
      " 5   SSN                       100000 non-null  object \n",
      " 6   Occupation                100000 non-null  object \n",
      " 7   Annual_Income             100000 non-null  object \n",
      " 8   Monthly_Inhand_Salary     84998 non-null   float64\n",
      " 9   Num_Bank_Accounts         100000 non-null  int64  \n",
      " 10  Num_Credit_Card           100000 non-null  int64  \n",
      " 11  Interest_Rate             100000 non-null  int64  \n",
      " 12  Num_of_Loan               100000 non-null  object \n",
      " 13  Type_of_Loan              88592 non-null   object \n",
      " 14  Delay_from_due_date       100000 non-null  int64  \n",
      " 15  Num_of_Delayed_Payment    92998 non-null   object \n",
      " 16  Changed_Credit_Limit      100000 non-null  object \n",
      " 17  Num_Credit_Inquiries      98035 non-null   float64\n",
      " 18  Credit_Mix                100000 non-null  object \n",
      " 19  Outstanding_Debt          100000 non-null  object \n",
      " 20  Credit_Utilization_Ratio  100000 non-null  float64\n",
      " 21  Credit_History_Age        90970 non-null   object \n",
      " 22  Payment_of_Min_Amount     100000 non-null  object \n",
      " 23  Total_EMI_per_month       100000 non-null  float64\n",
      " 24  Amount_invested_monthly   95521 non-null   object \n",
      " 25  Payment_Behaviour         100000 non-null  object \n",
      " 26  Monthly_Balance           98800 non-null   object \n",
      " 27  Credit_Score              100000 non-null  object \n",
      "dtypes: float64(4), int64(4), object(20)\n",
      "memory usage: 21.4+ MB\n",
      "None\n",
      "       Monthly_Inhand_Salary  Num_Bank_Accounts  Num_Credit_Card  \\\n",
      "count           84998.000000      100000.000000     100000.00000   \n",
      "mean             4194.170850          17.091280         22.47443   \n",
      "std              3183.686167         117.404834        129.05741   \n",
      "min               303.645417          -1.000000          0.00000   \n",
      "25%              1625.568229           3.000000          4.00000   \n",
      "50%              3093.745000           6.000000          5.00000   \n",
      "75%              5957.448333           7.000000          7.00000   \n",
      "max             15204.633333        1798.000000       1499.00000   \n",
      "\n",
      "       Interest_Rate  Delay_from_due_date  Num_Credit_Inquiries  \\\n",
      "count  100000.000000        100000.000000          98035.000000   \n",
      "mean       72.466040            21.068780             27.754251   \n",
      "std       466.422621            14.860104            193.177339   \n",
      "min         1.000000            -5.000000              0.000000   \n",
      "25%         8.000000            10.000000              3.000000   \n",
      "50%        13.000000            18.000000              6.000000   \n",
      "75%        20.000000            28.000000              9.000000   \n",
      "max      5797.000000            67.000000           2597.000000   \n",
      "\n",
      "       Credit_Utilization_Ratio  Total_EMI_per_month  \n",
      "count             100000.000000        100000.000000  \n",
      "mean                  32.285173          1403.118217  \n",
      "std                    5.116875          8306.041270  \n",
      "min                   20.000000             0.000000  \n",
      "25%                   28.052567            30.306660  \n",
      "50%                   32.305784            69.249473  \n",
      "75%                   36.496663           161.224249  \n",
      "max                   50.000000         82331.000000  \n",
      "                          count  unique                               top  \\\n",
      "ID                       100000  100000                            0x1602   \n",
      "Customer_ID              100000   12500                         CUS_0xd40   \n",
      "Month                    100000       8                           January   \n",
      "Name                      90015   10139                            Langep   \n",
      "Age                      100000    1788                                38   \n",
      "SSN                      100000   12501                         #F%$D@*&8   \n",
      "Occupation               100000      16                           _______   \n",
      "Annual_Income            100000   18940                          36585.12   \n",
      "Num_of_Loan              100000     434                                 3   \n",
      "Type_of_Loan              88592    6260                     Not Specified   \n",
      "Num_of_Delayed_Payment    92998     749                                19   \n",
      "Changed_Credit_Limit     100000    4384                                 _   \n",
      "Credit_Mix               100000       4                          Standard   \n",
      "Outstanding_Debt         100000   13178                           1360.45   \n",
      "Credit_History_Age        90970     404            15 Years and 11 Months   \n",
      "Payment_of_Min_Amount    100000       3                               Yes   \n",
      "Amount_invested_monthly   95521   91049                         __10000__   \n",
      "Payment_Behaviour        100000       7    Low_spent_Small_value_payments   \n",
      "Monthly_Balance           98800   98792  __-333333333333333333333333333__   \n",
      "Credit_Score             100000       3                          Standard   \n",
      "\n",
      "                          freq  \n",
      "ID                           1  \n",
      "Customer_ID                  8  \n",
      "Month                    12500  \n",
      "Name                        44  \n",
      "Age                       2833  \n",
      "SSN                       5572  \n",
      "Occupation                7062  \n",
      "Annual_Income               16  \n",
      "Num_of_Loan              14386  \n",
      "Type_of_Loan              1408  \n",
      "Num_of_Delayed_Payment    5327  \n",
      "Changed_Credit_Limit      2091  \n",
      "Credit_Mix               36479  \n",
      "Outstanding_Debt            24  \n",
      "Credit_History_Age         446  \n",
      "Payment_of_Min_Amount    52326  \n",
      "Amount_invested_monthly   4305  \n",
      "Payment_Behaviour        25513  \n",
      "Monthly_Balance              9  \n",
      "Credit_Score             53174  \n",
      "ID                              0\n",
      "Customer_ID                     0\n",
      "Month                           0\n",
      "Name                         9985\n",
      "Age                             0\n",
      "SSN                             0\n",
      "Occupation                      0\n",
      "Annual_Income                   0\n",
      "Monthly_Inhand_Salary       15002\n",
      "Num_Bank_Accounts               0\n",
      "Num_Credit_Card                 0\n",
      "Interest_Rate                   0\n",
      "Num_of_Loan                     0\n",
      "Type_of_Loan                11408\n",
      "Delay_from_due_date             0\n",
      "Num_of_Delayed_Payment       7002\n",
      "Changed_Credit_Limit            0\n",
      "Num_Credit_Inquiries         1965\n",
      "Credit_Mix                      0\n",
      "Outstanding_Debt                0\n",
      "Credit_Utilization_Ratio        0\n",
      "Credit_History_Age           9030\n",
      "Payment_of_Min_Amount           0\n",
      "Total_EMI_per_month             0\n",
      "Amount_invested_monthly      4479\n",
      "Payment_Behaviour               0\n",
      "Monthly_Balance              1200\n",
      "Credit_Score                    0\n",
      "dtype: int64\n",
      "Index(['ID', 'Customer_ID', 'Month', 'Name', 'Age', 'SSN', 'Occupation',\n",
      "       'Annual_Income', 'Monthly_Inhand_Salary', 'Num_Bank_Accounts',\n",
      "       'Num_Credit_Card', 'Interest_Rate', 'Num_of_Loan', 'Type_of_Loan',\n",
      "       'Delay_from_due_date', 'Num_of_Delayed_Payment', 'Changed_Credit_Limit',\n",
      "       'Num_Credit_Inquiries', 'Credit_Mix', 'Outstanding_Debt',\n",
      "       'Credit_Utilization_Ratio', 'Credit_History_Age',\n",
      "       'Payment_of_Min_Amount', 'Total_EMI_per_month',\n",
      "       'Amount_invested_monthly', 'Payment_Behaviour', 'Monthly_Balance',\n",
      "       'Credit_Score'],\n",
      "      dtype='object')\n"
     ]
    }
   ],
   "source": [
    "df = pd.read_csv('train.csv')\n",
    "print(df.info())\n",
    "print(df.describe())\n",
    "print(df.describe(exclude=np.number).transpose())\n",
    "print(df.isna().sum())\n",
    "print(df.columns)"
   ]
  },
  {
   "attachments": {},
   "cell_type": "markdown",
   "metadata": {},
   "source": [
    "# Data Cleaning\n",
    "\n",
    "As we progress with the data cleaning process, an initial examination revealed the presence of missing values and special symbols and characters. For example, there are “_” and “@” in certain columns, which would require cleaning. To address this, the first step involved removing these symbols and handling missing values across all columns. All the imputing was done on a unique customer ID basis. The following steps were undertaken to clean the data effectively.\n",
    "\n",
    "##### Underscore removal\n",
    "* Columns: Age, Occupation, Annual income, Number of loans, Number of delayed payments, changed credit limit, credit mix, Outstanding debt, Amount invested monthly, Payment behaviour.\n",
    "* Method: Underscores present in the values were removed.\n",
    "\n",
    "##### NaN replacement\n",
    "* Columns: Occupation, credit mix, monthly balance, changed credit limit, payment behaviour\n",
    "* Method: Anomalies and outlier values as well as missing values were found and replaced with NaN values.\n",
    "\n",
    "##### NaN values replaced with a numeric value\n",
    "* Columns: Changed credit limit, Number of credit inquiries, amount invested monthly\n",
    "* Method: The missing values in the first two columns were filled using an appropriate method with a value of 0, while for the third column, they were substituted with the value of 10000.\n",
    "\n",
    "##### NaN replacement using a threshold\n",
    "* Columns: Age, number of bank accounts, number of credit cards, interest rate, number of loans, number of delayed payments, number of credit inquiries, monthly balance\n",
    "* Method: The columns contained several anomalies and outliers. For instance, in the Age column, there were values that surpassed 120 and even extended up to 9000, which are highly unlikely and implausible in real-life scenarios. Similarly, in the Interest Rate column, values were observed to be significantly above 100, while interest rates typically fall within a range below 100. Hence, for these columns specific conditions were established to define upper and/or lower bounds. Any values that exceeded or fell below these predefined thresholds were substituted with NaN values.\n",
    "\n",
    "##### Missing values replaced using preceding/succeeding values\n",
    "* Columns: Age, annual income, number of bank accounts, number of credit cards, interest rate, number of loans, number of credit inquiries, credit mix, total EMI per month, credit history age\n",
    "* Method: The missing values in these columns were addressed by utilizing either the preceding or succeeding values.\n",
    "\n",
    "##### Missing values replaced using the mode\n",
    "* Columns: Number of delayed payments, payment behaviour\n",
    "* Method: The missing values in these columns were substituted with the highest value observed in each respective column.\n",
    "\n",
    "##### Missing values replaced using the mean\n",
    "* Columns: Amount invested monthly, monthly balance\n",
    "* Method: The missing values in these columns were substituted with the average observed in each respective column. This process aimed to standardize and align the data for each individual in those columns.\n",
    "\n",
    "##### String values replaced with numeric values.\n",
    "* Columns: Credit History Age\n",
    "* Method: The column contained values with the format “x Years and xx Months.” these values were converted to display numeric values in months.\n",
    "\n",
    "##### String value replacement\n",
    "* Column: Payment of minimum amount\n",
    "* Method: The NM values in this column were replaced with \"No\".\n",
    "\n",
    "##### Converting categorical columns to numerical column.\n",
    "* Column: Payment of the minimum amount, occupation, credit mix, payment behaviour, type of loan\n",
    "* Method: The binary values were obtained for these columns by using the function “One hot Encoder.”"
   ]
  },
  {
   "cell_type": "code",
   "execution_count": 80,
   "metadata": {},
   "outputs": [],
   "source": [
    "_cols = ['Age', 'Occupation', 'Annual_Income', 'Num_of_Loan', 'Num_of_Delayed_Payment', 'Changed_Credit_Limit',\n",
    "         'Credit_Mix', 'Outstanding_Debt', 'Amount_invested_monthly', 'Payment_Behaviour']\n",
    "\n",
    "for col in _cols:\n",
    "    df[col] = df[col].str.replace('_', '')\n",
    "    try:\n",
    "        df[col] = df[col].astype('float64')\n",
    "    except:\n",
    "        df[col] = df[col]\n",
    "\n",
    "df['Occupation'] = df['Occupation'].replace('', np.nan)\n",
    "df['Credit_Mix'] = df['Credit_Mix'].replace('', np.nan)\n",
    "df['Monthly_Balance'] = df['Monthly_Balance'].replace('', np.nan)\n",
    "df['Monthly_Balance'] = df['Monthly_Balance'].replace('__-333333333333333333333333333__', np.nan).astype(float)\n",
    "df['Changed_Credit_Limit'] = df['Changed_Credit_Limit'].replace('', np.nan)\n",
    "df['Changed_Credit_Limit'] = df['Changed_Credit_Limit'].fillna(0).astype(float)\n",
    "df['Num_of_Delayed_Payment'] = df['Num_of_Delayed_Payment'].fillna(0)\n",
    "df['Num_Credit_Inquiries'] = df['Num_Credit_Inquiries'].fillna(0)\n",
    "df['Payment_Behaviour'] = df['Payment_Behaviour'].replace('!@9#%8', '')\n",
    "df['Payment_Behaviour'] = df['Payment_Behaviour'].replace('', np.nan)\n",
    "df['Amount_invested_monthly'] = df['Amount_invested_monthly'].replace(10000, np.nan)"
   ]
  },
  {
   "cell_type": "code",
   "execution_count": 81,
   "metadata": {},
   "outputs": [],
   "source": [
    "grouped = df.groupby('Customer_ID')\n",
    "\n",
    "df.loc[df['Age'] < 0, 'Age'] = np.nan\n",
    "df.loc[df['Age'] > 57, 'Age'] = np.nan\n",
    "df.loc[df['Num_Bank_Accounts'] > 15, 'Num_Bank_Accounts'] = np.nan\n",
    "df.loc[df['Num_Bank_Accounts'] < 0, 'Num_Bank_Accounts'] = np.nan\n",
    "df.loc[df['Num_Credit_Card'] > 20, 'Num_Credit_Card'] = np.nan\n",
    "df.loc[df['Num_Credit_Card'] < 0, 'Num_Credit_Card'] = np.nan\n",
    "df.loc[df['Interest_Rate'] > 40, 'Interest_Rate'] = np.nan\n",
    "df.loc[df['Num_of_Loan'] > 10, 'Num_of_Loan'] = np.nan\n",
    "df.loc[df['Num_of_Loan'] < 0, 'Num_of_Loan'] = np.nan\n",
    "df.loc[df['Num_of_Delayed_Payment'] < 0, 'Num_of_Delayed_Payment'] = np.nan\n",
    "df.loc[df['Num_of_Delayed_Payment'] > 30, 'Num_of_Delayed_Payment'] = np.nan\n",
    "df.loc[df['Num_Credit_Inquiries'] > 20, 'Num_Credit_Inquiries'] = np.nan\n",
    "mode_val_1 = grouped['Total_EMI_per_month'].apply(lambda x: x.mode().iloc[0])\n",
    "df.loc[~grouped['Total_EMI_per_month'].transform(lambda x: x.isin(mode_val_1)), 'Total_EMI_per_month'] = np.nan\n",
    "mode_val_2 = grouped['Annual_Income'].apply(lambda x: x.mode().iloc[0])\n",
    "df.loc[~grouped['Annual_Income'].transform(lambda x: x.isin(mode_val_2)), 'Annual_Income'] = np.nan\n",
    "df.loc[df['Monthly_Balance'] < -2500, 'Monthly_Balance'] = np.nan"
   ]
  },
  {
   "cell_type": "code",
   "execution_count": 82,
   "metadata": {},
   "outputs": [],
   "source": [
    "cols = ['Age', 'Annual_Income', 'Num_Bank_Accounts', 'Num_Credit_Card', 'Interest_Rate', 'Num_of_Loan', 'Num_Credit_Inquiries',\n",
    "        'Credit_Mix', 'Total_EMI_per_month']\n",
    "for i in cols:\n",
    "    df[i] = grouped[i].transform(lambda x: x.ffill().bfill())\n",
    "    \n",
    "df['Occupation'] = grouped['Occupation'].transform(lambda x: x.fillna(x.mode().iloc[0]))\n",
    "df['Num_of_Delayed_Payment'] = grouped['Num_of_Delayed_Payment'].transform(lambda x: x.fillna(x.max()))\n",
    "df['Amount_invested_monthly'] = grouped['Amount_invested_monthly'].transform(lambda x: np.nanmean(x))\n",
    "df['Monthly_Balance'] = grouped['Monthly_Balance'].transform(lambda x: x.fillna(np.nanmean(x)) if x.any() else 0)\n",
    "df['Payment_Behaviour'] = grouped['Payment_Behaviour'].transform(lambda x: x.fillna(x.mode().iloc[0]))\n",
    "\n",
    "years_months = df['Credit_History_Age'].str.split(' Years and ', expand=True)\n",
    "years_months.columns = ['Years', 'Months']\n",
    "years_months[['Months', 'Extra']] = years_months['Months'].str.split(' Months', expand=True)\n",
    "years_months = years_months.drop(columns=\"Extra\", axis=1)\n",
    "years_months['Years'] = pd.to_numeric(years_months['Years'], errors='coerce').astype(float)\n",
    "years_months['Months'] = pd.to_numeric(years_months['Months'], errors='coerce').astype(float)\n",
    "df['Credit_History_Age_in_Months'] = (years_months['Years'] * 12) + years_months['Months']\n",
    "df['Credit_History_Age_in_Months'] = grouped['Credit_History_Age_in_Months'].ffill().bfill()\n",
    "\n",
    "df['Payment_of_Min_Amount'] = df['Payment_of_Min_Amount'].str.replace(\"NM\", \"No\")"
   ]
  },
  {
   "cell_type": "code",
   "execution_count": 83,
   "metadata": {},
   "outputs": [],
   "source": [
    "df = one_hot_encoding(df, 'Payment_of_Min_Amount')\n",
    "df = one_hot_encoding(df, 'Occupation')\n",
    "df = one_hot_encoding(df, 'Credit_Mix')\n",
    "df = one_hot_encoding(df, 'Payment_Behaviour')\n",
    "\n",
    "df['Type_of_Loan'] = grouped['Type_of_Loan'].fillna('No Loan')\n",
    "df_1 = df['Type_of_Loan'].str.replace('and ', '').str.get_dummies(', ')\n",
    "df = pd.concat([df, df_1], axis=1)\n",
    "df = df.drop('Type_of_Loan', axis=1)"
   ]
  },
  {
   "cell_type": "code",
   "execution_count": 84,
   "metadata": {},
   "outputs": [
    {
     "name": "stdout",
     "output_type": "stream",
     "text": [
      "<class 'pandas.core.frame.DataFrame'>\n",
      "RangeIndex: 100000 entries, 0 to 99999\n",
      "Data columns (total 60 columns):\n",
      " #   Column                           Non-Null Count   Dtype  \n",
      "---  ------                           --------------   -----  \n",
      " 0   ID                               100000 non-null  object \n",
      " 1   Customer_ID                      100000 non-null  object \n",
      " 2   Month                            100000 non-null  object \n",
      " 3   Name                             90015 non-null   object \n",
      " 4   Age                              100000 non-null  float64\n",
      " 5   SSN                              100000 non-null  object \n",
      " 6   Annual_Income                    100000 non-null  float64\n",
      " 7   Monthly_Inhand_Salary            84998 non-null   float64\n",
      " 8   Num_Bank_Accounts                100000 non-null  float64\n",
      " 9   Num_Credit_Card                  100000 non-null  float64\n",
      " 10  Interest_Rate                    100000 non-null  float64\n",
      " 11  Num_of_Loan                      100000 non-null  float64\n",
      " 12  Delay_from_due_date              100000 non-null  int64  \n",
      " 13  Num_of_Delayed_Payment           100000 non-null  float64\n",
      " 14  Changed_Credit_Limit             100000 non-null  float64\n",
      " 15  Num_Credit_Inquiries             100000 non-null  float64\n",
      " 16  Outstanding_Debt                 100000 non-null  float64\n",
      " 17  Credit_Utilization_Ratio         100000 non-null  float64\n",
      " 18  Credit_History_Age               90970 non-null   object \n",
      " 19  Total_EMI_per_month              100000 non-null  float64\n",
      " 20  Amount_invested_monthly          100000 non-null  float64\n",
      " 21  Monthly_Balance                  100000 non-null  float64\n",
      " 22  Credit_Score                     100000 non-null  object \n",
      " 23  Credit_History_Age_in_Months     100000 non-null  float64\n",
      " 24  x0_No                            100000 non-null  float64\n",
      " 25  x0_Yes                           100000 non-null  float64\n",
      " 26  x0_Accountant                    100000 non-null  float64\n",
      " 27  x0_Architect                     100000 non-null  float64\n",
      " 28  x0_Developer                     100000 non-null  float64\n",
      " 29  x0_Doctor                        100000 non-null  float64\n",
      " 30  x0_Engineer                      100000 non-null  float64\n",
      " 31  x0_Entrepreneur                  100000 non-null  float64\n",
      " 32  x0_Journalist                    100000 non-null  float64\n",
      " 33  x0_Lawyer                        100000 non-null  float64\n",
      " 34  x0_Manager                       100000 non-null  float64\n",
      " 35  x0_Mechanic                      100000 non-null  float64\n",
      " 36  x0_MediaManager                  100000 non-null  float64\n",
      " 37  x0_Musician                      100000 non-null  float64\n",
      " 38  x0_Scientist                     100000 non-null  float64\n",
      " 39  x0_Teacher                       100000 non-null  float64\n",
      " 40  x0_Writer                        100000 non-null  float64\n",
      " 41  x0_Bad                           100000 non-null  float64\n",
      " 42  x0_Good                          100000 non-null  float64\n",
      " 43  x0_Standard                      100000 non-null  float64\n",
      " 44  x0_HighspentLargevaluepayments   100000 non-null  float64\n",
      " 45  x0_HighspentMediumvaluepayments  100000 non-null  float64\n",
      " 46  x0_HighspentSmallvaluepayments   100000 non-null  float64\n",
      " 47  x0_LowspentLargevaluepayments    100000 non-null  float64\n",
      " 48  x0_LowspentMediumvaluepayments   100000 non-null  float64\n",
      " 49  x0_LowspentSmallvaluepayments    100000 non-null  float64\n",
      " 50  Auto Loan                        100000 non-null  int64  \n",
      " 51  Credit-Builder Loan              100000 non-null  int64  \n",
      " 52  Debt Consolidation Loan          100000 non-null  int64  \n",
      " 53  Home Equity Loan                 100000 non-null  int64  \n",
      " 54  Mortgage Loan                    100000 non-null  int64  \n",
      " 55  No Loan                          100000 non-null  int64  \n",
      " 56  Not Specified                    100000 non-null  int64  \n",
      " 57  Payday Loan                      100000 non-null  int64  \n",
      " 58  Personal Loan                    100000 non-null  int64  \n",
      " 59  Student Loan                     100000 non-null  int64  \n",
      "dtypes: float64(42), int64(11), object(7)\n",
      "memory usage: 45.8+ MB\n",
      "None\n",
      "Index(['ID', 'Customer_ID', 'Month', 'Name', 'Age', 'SSN', 'Annual_Income',\n",
      "       'Monthly_Inhand_Salary', 'Num_Bank_Accounts', 'Num_Credit_Card',\n",
      "       'Interest_Rate', 'Num_of_Loan', 'Delay_from_due_date',\n",
      "       'Num_of_Delayed_Payment', 'Changed_Credit_Limit',\n",
      "       'Num_Credit_Inquiries', 'Outstanding_Debt', 'Credit_Utilization_Ratio',\n",
      "       'Credit_History_Age', 'Total_EMI_per_month', 'Amount_invested_monthly',\n",
      "       'Monthly_Balance', 'Credit_Score', 'Credit_History_Age_in_Months',\n",
      "       'x0_No', 'x0_Yes', 'x0_Accountant', 'x0_Architect', 'x0_Developer',\n",
      "       'x0_Doctor', 'x0_Engineer', 'x0_Entrepreneur', 'x0_Journalist',\n",
      "       'x0_Lawyer', 'x0_Manager', 'x0_Mechanic', 'x0_MediaManager',\n",
      "       'x0_Musician', 'x0_Scientist', 'x0_Teacher', 'x0_Writer', 'x0_Bad',\n",
      "       'x0_Good', 'x0_Standard', 'x0_HighspentLargevaluepayments',\n",
      "       'x0_HighspentMediumvaluepayments', 'x0_HighspentSmallvaluepayments',\n",
      "       'x0_LowspentLargevaluepayments', 'x0_LowspentMediumvaluepayments',\n",
      "       'x0_LowspentSmallvaluepayments', 'Auto Loan', 'Credit-Builder Loan',\n",
      "       'Debt Consolidation Loan', 'Home Equity Loan', 'Mortgage Loan',\n",
      "       'No Loan', 'Not Specified', 'Payday Loan', 'Personal Loan',\n",
      "       'Student Loan'],\n",
      "      dtype='object')\n"
     ]
    }
   ],
   "source": [
    "print(df.info())\n",
    "print(df.columns)"
   ]
  },
  {
   "attachments": {},
   "cell_type": "markdown",
   "metadata": {},
   "source": [
    "Renaming the columns sent through the one hot encoder into more practical names"
   ]
  },
  {
   "cell_type": "code",
   "execution_count": 85,
   "metadata": {},
   "outputs": [],
   "source": [
    "df.rename(columns={'x0_No': 'No', 'x0_Yes': 'Yes', 'x0_Accountant': 'Accountant', 'x0_Architect': 'Architect',\n",
    "                    'x0_Developer': 'Developer', 'x0_Doctor': 'Doctor', 'x0_Engineer': 'Engineer', \n",
    "                    'x0_Entrepreneur': 'Entrepreneur', 'x0_Journalist': 'Journalist', 'x0_Lawyer': 'Lawyer', \n",
    "                    'x0_Manager': 'Manager', 'x0_Mechanic': 'Mechanic', 'x0_MediaManager': 'MediaManager', \n",
    "                    'x0_Musician': 'Musician', 'x0_Scientist': 'Scientist', 'x0_Teacher': 'Teacher', 'x0_Writer': 'Writer', \n",
    "                    'x0_Bad': 'Bad', 'x0_Good': 'Good', 'x0_Standard': 'Standard', \n",
    "                    'x0_HighspentLargevaluepayments': 'HighspentLargevaluepayments', \n",
    "                    'x0_HighspentMediumvaluepayments': 'HighspentMediumvaluepayments',\n",
    "                    'x0_HighspentSmallvaluepayments': 'HighspentSmallvaluepayments', \n",
    "                    'x0_LowspentLargevaluepayments': 'LowspentLargevaluepayments', \n",
    "                    'x0_LowspentMediumvaluepayments': 'LowspentMediumvaluepayments',\n",
    "                    'x0_LowspentSmallvaluepayments': 'LowspentSmallvaluepayments'}, inplace=True)"
   ]
  },
  {
   "attachments": {},
   "cell_type": "markdown",
   "metadata": {},
   "source": [
    "The following columns were dropped because they are highly individual specific and won't have any predictive power as a result. Additionally, the \"Monthly_Inhand_Salary\" column was dropped since the \"Annual_Income\" column already accounted for this information."
   ]
  },
  {
   "cell_type": "code",
   "execution_count": 86,
   "metadata": {},
   "outputs": [],
   "source": [
    "df = df.drop(['ID', 'Month', 'Name', 'SSN', 'Monthly_Inhand_Salary', 'Customer_ID', 'Credit_History_Age'], axis=1)"
   ]
  },
  {
   "attachments": {},
   "cell_type": "markdown",
   "metadata": {},
   "source": [
    "The \"Credit_Score\" column still contains text values. This was converted to numerical values by a simple map where 0 is assigned in place of a poor credit score, 1 for standard, and 2 for good"
   ]
  },
  {
   "cell_type": "code",
   "execution_count": 87,
   "metadata": {},
   "outputs": [],
   "source": [
    "m = {\"Poor\":0,\"Standard\":1,\"Good\":2}\n",
    "df['Credit_Score'] = df['Credit_Score'].map(m)"
   ]
  },
  {
   "cell_type": "code",
   "execution_count": 88,
   "metadata": {},
   "outputs": [
    {
     "name": "stdout",
     "output_type": "stream",
     "text": [
      "<class 'pandas.core.frame.DataFrame'>\n",
      "RangeIndex: 100000 entries, 0 to 99999\n",
      "Data columns (total 53 columns):\n",
      " #   Column                        Non-Null Count   Dtype  \n",
      "---  ------                        --------------   -----  \n",
      " 0   Age                           100000 non-null  float64\n",
      " 1   Annual_Income                 100000 non-null  float64\n",
      " 2   Num_Bank_Accounts             100000 non-null  float64\n",
      " 3   Num_Credit_Card               100000 non-null  float64\n",
      " 4   Interest_Rate                 100000 non-null  float64\n",
      " 5   Num_of_Loan                   100000 non-null  float64\n",
      " 6   Delay_from_due_date           100000 non-null  int64  \n",
      " 7   Num_of_Delayed_Payment        100000 non-null  float64\n",
      " 8   Changed_Credit_Limit          100000 non-null  float64\n",
      " 9   Num_Credit_Inquiries          100000 non-null  float64\n",
      " 10  Outstanding_Debt              100000 non-null  float64\n",
      " 11  Credit_Utilization_Ratio      100000 non-null  float64\n",
      " 12  Total_EMI_per_month           100000 non-null  float64\n",
      " 13  Amount_invested_monthly       100000 non-null  float64\n",
      " 14  Monthly_Balance               100000 non-null  float64\n",
      " 15  Credit_Score                  100000 non-null  int64  \n",
      " 16  Credit_History_Age_in_Months  100000 non-null  float64\n",
      " 17  No                            100000 non-null  float64\n",
      " 18  Yes                           100000 non-null  float64\n",
      " 19  Accountant                    100000 non-null  float64\n",
      " 20  Architect                     100000 non-null  float64\n",
      " 21  Developer                     100000 non-null  float64\n",
      " 22  Doctor                        100000 non-null  float64\n",
      " 23  Engineer                      100000 non-null  float64\n",
      " 24  Entrepreneur                  100000 non-null  float64\n",
      " 25  Journalist                    100000 non-null  float64\n",
      " 26  Lawyer                        100000 non-null  float64\n",
      " 27  Manager                       100000 non-null  float64\n",
      " 28  Mechanic                      100000 non-null  float64\n",
      " 29  MediaManager                  100000 non-null  float64\n",
      " 30  Musician                      100000 non-null  float64\n",
      " 31  Scientist                     100000 non-null  float64\n",
      " 32  Teacher                       100000 non-null  float64\n",
      " 33  Writer                        100000 non-null  float64\n",
      " 34  Bad                           100000 non-null  float64\n",
      " 35  Good                          100000 non-null  float64\n",
      " 36  Standard                      100000 non-null  float64\n",
      " 37  HighspentLargevaluepayments   100000 non-null  float64\n",
      " 38  HighspentMediumvaluepayments  100000 non-null  float64\n",
      " 39  HighspentSmallvaluepayments   100000 non-null  float64\n",
      " 40  LowspentLargevaluepayments    100000 non-null  float64\n",
      " 41  LowspentMediumvaluepayments   100000 non-null  float64\n",
      " 42  LowspentSmallvaluepayments    100000 non-null  float64\n",
      " 43  Auto Loan                     100000 non-null  int64  \n",
      " 44  Credit-Builder Loan           100000 non-null  int64  \n",
      " 45  Debt Consolidation Loan       100000 non-null  int64  \n",
      " 46  Home Equity Loan              100000 non-null  int64  \n",
      " 47  Mortgage Loan                 100000 non-null  int64  \n",
      " 48  No Loan                       100000 non-null  int64  \n",
      " 49  Not Specified                 100000 non-null  int64  \n",
      " 50  Payday Loan                   100000 non-null  int64  \n",
      " 51  Personal Loan                 100000 non-null  int64  \n",
      " 52  Student Loan                  100000 non-null  int64  \n",
      "dtypes: float64(41), int64(12)\n",
      "memory usage: 40.4 MB\n",
      "None\n"
     ]
    }
   ],
   "source": [
    "print(df.info())"
   ]
  },
  {
   "attachments": {},
   "cell_type": "markdown",
   "metadata": {},
   "source": [
    "Setting the appropriate data types for each column"
   ]
  },
  {
   "cell_type": "code",
   "execution_count": 89,
   "metadata": {},
   "outputs": [
    {
     "name": "stdout",
     "output_type": "stream",
     "text": [
      "<class 'pandas.core.frame.DataFrame'>\n",
      "RangeIndex: 100000 entries, 0 to 99999\n",
      "Data columns (total 53 columns):\n",
      " #   Column                        Non-Null Count   Dtype  \n",
      "---  ------                        --------------   -----  \n",
      " 0   Age                           100000 non-null  int64  \n",
      " 1   Annual_Income                 100000 non-null  float64\n",
      " 2   Num_Bank_Accounts             100000 non-null  int64  \n",
      " 3   Num_Credit_Card               100000 non-null  int64  \n",
      " 4   Interest_Rate                 100000 non-null  int64  \n",
      " 5   Num_of_Loan                   100000 non-null  int64  \n",
      " 6   Delay_from_due_date           100000 non-null  int64  \n",
      " 7   Num_of_Delayed_Payment        100000 non-null  int64  \n",
      " 8   Changed_Credit_Limit          100000 non-null  float64\n",
      " 9   Num_Credit_Inquiries          100000 non-null  int64  \n",
      " 10  Outstanding_Debt              100000 non-null  float64\n",
      " 11  Credit_Utilization_Ratio      100000 non-null  float64\n",
      " 12  Total_EMI_per_month           100000 non-null  float64\n",
      " 13  Amount_invested_monthly       100000 non-null  float64\n",
      " 14  Monthly_Balance               100000 non-null  float64\n",
      " 15  Credit_Score                  100000 non-null  int64  \n",
      " 16  Credit_History_Age_in_Months  100000 non-null  int64  \n",
      " 17  No                            100000 non-null  int64  \n",
      " 18  Yes                           100000 non-null  int64  \n",
      " 19  Accountant                    100000 non-null  int64  \n",
      " 20  Architect                     100000 non-null  int64  \n",
      " 21  Developer                     100000 non-null  int64  \n",
      " 22  Doctor                        100000 non-null  int64  \n",
      " 23  Engineer                      100000 non-null  int64  \n",
      " 24  Entrepreneur                  100000 non-null  int64  \n",
      " 25  Journalist                    100000 non-null  int64  \n",
      " 26  Lawyer                        100000 non-null  int64  \n",
      " 27  Manager                       100000 non-null  int64  \n",
      " 28  Mechanic                      100000 non-null  int64  \n",
      " 29  MediaManager                  100000 non-null  int64  \n",
      " 30  Musician                      100000 non-null  int64  \n",
      " 31  Scientist                     100000 non-null  int64  \n",
      " 32  Teacher                       100000 non-null  int64  \n",
      " 33  Writer                        100000 non-null  int64  \n",
      " 34  Bad                           100000 non-null  int64  \n",
      " 35  Good                          100000 non-null  int64  \n",
      " 36  Standard                      100000 non-null  int64  \n",
      " 37  HighspentLargevaluepayments   100000 non-null  int64  \n",
      " 38  HighspentMediumvaluepayments  100000 non-null  int64  \n",
      " 39  HighspentSmallvaluepayments   100000 non-null  int64  \n",
      " 40  LowspentLargevaluepayments    100000 non-null  int64  \n",
      " 41  LowspentMediumvaluepayments   100000 non-null  int64  \n",
      " 42  LowspentSmallvaluepayments    100000 non-null  int64  \n",
      " 43  Auto Loan                     100000 non-null  int64  \n",
      " 44  Credit-Builder Loan           100000 non-null  int64  \n",
      " 45  Debt Consolidation Loan       100000 non-null  int64  \n",
      " 46  Home Equity Loan              100000 non-null  int64  \n",
      " 47  Mortgage Loan                 100000 non-null  int64  \n",
      " 48  No Loan                       100000 non-null  int64  \n",
      " 49  Not Specified                 100000 non-null  int64  \n",
      " 50  Payday Loan                   100000 non-null  int64  \n",
      " 51  Personal Loan                 100000 non-null  int64  \n",
      " 52  Student Loan                  100000 non-null  int64  \n",
      "dtypes: float64(7), int64(46)\n",
      "memory usage: 40.4 MB\n",
      "None\n"
     ]
    }
   ],
   "source": [
    "convert_dict = {'Age': int, 'Annual_Income': float, 'Num_Bank_Accounts': int, 'Num_Credit_Card': int, 'Interest_Rate': int,\n",
    "                'Num_of_Loan': int, 'Delay_from_due_date': int, 'Num_of_Delayed_Payment': int, 'Changed_Credit_Limit': float,\n",
    "                'Num_Credit_Inquiries': int, 'Outstanding_Debt': float, 'Credit_Utilization_Ratio': float, \n",
    "                'Total_EMI_per_month': float, 'Amount_invested_monthly': float, 'Monthly_Balance': float, 'Credit_Score': int,\n",
    "                'Credit_History_Age_in_Months': int, 'No': int, 'Yes': int, 'Accountant': int, 'Architect': int, 'Developer': int,\n",
    "                'Doctor': int, 'Engineer': int, 'Entrepreneur': int, 'Journalist': int, 'Lawyer': int, 'Manager': int, \n",
    "                'Mechanic': int, 'MediaManager': int, 'Musician': int, 'Scientist': int, 'Teacher': int, 'Writer': int, \n",
    "                'Bad': int, 'Good': int, 'Standard': int, 'HighspentLargevaluepayments': int, 'HighspentMediumvaluepayments': int, \n",
    "                'HighspentSmallvaluepayments': int, 'LowspentLargevaluepayments': int, 'LowspentMediumvaluepayments': int,\n",
    "                'LowspentSmallvaluepayments': int, 'Auto Loan': int, 'Credit-Builder Loan': int, 'Debt Consolidation Loan': int,\n",
    "                'Home Equity Loan': int, 'Mortgage Loan': int, 'No Loan': int, 'Not Specified': int, 'Payday Loan': int, \n",
    "                'Personal Loan': int, 'Student Loan': int}\n",
    "\n",
    "df = df.astype(convert_dict)\n",
    "print(df.info())"
   ]
  },
  {
   "attachments": {},
   "cell_type": "markdown",
   "metadata": {},
   "source": [
    "Saving the cleaned data file"
   ]
  },
  {
   "cell_type": "code",
   "execution_count": 90,
   "metadata": {},
   "outputs": [],
   "source": [
    "df.to_csv('train_cleaned.csv', index=False)"
   ]
  },
  {
   "cell_type": "code",
   "execution_count": 91,
   "metadata": {},
   "outputs": [
    {
     "name": "stdout",
     "output_type": "stream",
     "text": [
      "Credit_Score\n",
      "1    53174\n",
      "0    28998\n",
      "2    17828\n",
      "Name: count, dtype: int64\n"
     ]
    }
   ],
   "source": [
    "df_clean = pd.read_csv(\"train_cleaned.csv\")\n",
    "\n",
    "y = df_clean[\"Credit_Score\"]\n",
    "print(y.value_counts())"
   ]
  },
  {
   "attachments": {},
   "cell_type": "markdown",
   "metadata": {},
   "source": [
    "After cleaning the data, it can be observed that the prediction variable was unbalanced so the Synthetic Minority Oversampling Technique (SMOTE) was applied to rebalance the data. Finally, we extracted statistics from the data for exploratory analysis and created histogram plots for each of the columns to choose the method of scaling for them before further developing machine learning models."
   ]
  },
  {
   "cell_type": "code",
   "execution_count": 92,
   "metadata": {},
   "outputs": [
    {
     "data": {
      "text/plain": [
       "Credit_Score                    1.000000\n",
       "Good                            0.431274\n",
       "Credit_History_Age_in_Months    0.388784\n",
       "No                              0.384088\n",
       "Annual_Income                   0.212606\n",
       "Monthly_Balance                 0.208350\n",
       "Amount_invested_monthly         0.195161\n",
       "Age                             0.160356\n",
       "No Loan                         0.157590\n",
       "HighspentLargevaluepayments     0.080395\n",
       "Credit_Utilization_Ratio        0.045793\n",
       "HighspentMediumvaluepayments    0.039327\n",
       "MediaManager                    0.013644\n",
       "HighspentSmallvaluepayments     0.013418\n",
       "Journalist                      0.008634\n",
       "Architect                       0.008238\n",
       "Musician                        0.007016\n",
       "Doctor                          0.005599\n",
       "Lawyer                          0.004997\n",
       "LowspentLargevaluepayments      0.004870\n",
       "Manager                         0.003167\n",
       "Developer                       0.002167\n",
       "Teacher                        -0.003427\n",
       "Engineer                       -0.003708\n",
       "Accountant                     -0.004648\n",
       "Entrepreneur                   -0.006268\n",
       "Scientist                      -0.006361\n",
       "LowspentMediumvaluepayments    -0.007707\n",
       "Total_EMI_per_month            -0.009674\n",
       "Mechanic                       -0.010615\n",
       "Writer                         -0.018701\n",
       "Standard                       -0.062658\n",
       "LowspentSmallvaluepayments     -0.106447\n",
       "Not Specified                  -0.135134\n",
       "Home Equity Loan               -0.136328\n",
       "Student Loan                   -0.139390\n",
       "Debt Consolidation Loan        -0.140383\n",
       "Mortgage Loan                  -0.141116\n",
       "Credit-Builder Loan            -0.141497\n",
       "Payday Loan                    -0.142031\n",
       "Personal Loan                  -0.142827\n",
       "Auto Loan                      -0.151172\n",
       "Changed_Credit_Limit           -0.162894\n",
       "Num_of_Delayed_Payment         -0.313223\n",
       "Num_of_Loan                    -0.358355\n",
       "Yes                            -0.384088\n",
       "Outstanding_Debt               -0.386525\n",
       "Num_Bank_Accounts              -0.388166\n",
       "Bad                            -0.392631\n",
       "Num_Credit_Card                -0.404117\n",
       "Num_Credit_Inquiries           -0.421640\n",
       "Delay_from_due_date            -0.431591\n",
       "Interest_Rate                  -0.485409\n",
       "Name: Credit_Score, dtype: float64"
      ]
     },
     "execution_count": 92,
     "metadata": {},
     "output_type": "execute_result"
    }
   ],
   "source": [
    "corr_matrix = df_clean.corr()\n",
    "corr_matrix['Credit_Score'].sort_values(ascending=False)"
   ]
  },
  {
   "cell_type": "code",
   "execution_count": 93,
   "metadata": {},
   "outputs": [
    {
     "data": {
      "text/plain": [
       "Credit_Score\n",
       "2    0.333333\n",
       "1    0.333333\n",
       "0    0.333333\n",
       "Name: proportion, dtype: float64"
      ]
     },
     "execution_count": 93,
     "metadata": {},
     "output_type": "execute_result"
    }
   ],
   "source": [
    "X, y = df_clean.drop('Credit_Score', axis=1), df_clean['Credit_Score']\n",
    "smote = SMOTE() # Synthetic Minority Oversampling TEchnique\n",
    "X, y = smote.fit_resample(X,y)\n",
    "y.value_counts(normalize=True)"
   ]
  },
  {
   "attachments": {},
   "cell_type": "markdown",
   "metadata": {},
   "source": [
    "After extracting the cleaned data, we proceeded with exploratory analysis and obtained relevant statistics. To facilitate the selection of scaling methods for each column and advance the development of our machine learning models, we generated histogram plots for each of the feature."
   ]
  },
  {
   "cell_type": "code",
   "execution_count": 94,
   "metadata": {},
   "outputs": [
    {
     "name": "stdout",
     "output_type": "stream",
     "text": [
      "(159522, 52) (159522,)\n"
     ]
    }
   ],
   "source": [
    "print(X.shape, y.shape)"
   ]
  },
  {
   "cell_type": "code",
   "execution_count": 95,
   "metadata": {},
   "outputs": [
    {
     "name": "stdout",
     "output_type": "stream",
     "text": [
      "(127617, 52) Credit_Score\n",
      "2    42601\n",
      "1    42557\n",
      "0    42459\n",
      "Name: count, dtype: int64 (31905, 52) Credit_Score\n",
      "0    10715\n",
      "1    10617\n",
      "2    10573\n",
      "Name: count, dtype: int64\n"
     ]
    }
   ],
   "source": [
    "X_train, X_test, y_train, y_test = train_test_split(X, y, test_size = 0.2, random_state = 42)\n",
    "print(X_train.shape, y_train.value_counts(), X_test.shape, y_test.value_counts())"
   ]
  },
  {
   "attachments": {},
   "cell_type": "markdown",
   "metadata": {},
   "source": [
    "Upon analysing the histogram plots, a notable observation was that most of the features displayed a positive skew/had no known distribution"
   ]
  },
  {
   "cell_type": "code",
   "execution_count": 96,
   "metadata": {},
   "outputs": [
    {
     "data": {
      "image/png": "[encoded data removed]",
      "text/plain": [
       "<Figure size 1000x4000 with 16 Axes>"
      ]
     },
     "metadata": {},
     "output_type": "display_data"
    }
   ],
   "source": [
    "plt.figure(figsize=[10,40])\n",
    "cols = list(X_train.columns)\n",
    "for i in range(16):\n",
    "    plt.subplot(16, 1, i + 1)\n",
    "    if np.issubdtype(X_train[cols[i]].dtype, np.integer):\n",
    "        counts = X_train[cols[i]].value_counts().sort_index()\n",
    "        plt.bar(counts.index, counts.values)\n",
    "        plt.xlabel(cols[i])\n",
    "    else:\n",
    "        nbins = (max(X_train.iloc[:,i]) - min(X_train.iloc[:,i]))/(2 * iqr(X_train.iloc[:,i]) * (len(X_train.iloc[:,i])) ** (-1/3))\n",
    "        plt.hist(X_train.iloc[:, i], bins=round(nbins))\n",
    "        plt.xlabel(cols[i])\n",
    "    plt.ylabel(\"Frequency\")\n",
    "\n",
    "plt.tight_layout()\n",
    "plt.show()\n"
   ]
  },
  {
   "attachments": {},
   "cell_type": "markdown",
   "metadata": {},
   "source": [
    "The MinMax scaler is preferred over the Standard scaler in this case because it preserves the original distribution of the data. Since most of the features exhibited a positive skew, the MinMax scaler can effectively map the values to a predefined range (typically between 0 and 1), maintaining the relative relationships and proportions among the data points.\n",
    "\n",
    "This scaling method is particularly beneficial when working with algorithms that rely on the magnitude of the features, such as distance-based algorithms or neural networks. On the other hand, the Standard scaler transforms the data to have zero mean and unit variance, which may alter the original distribution and affect the interpretation of the results, especially in cases where preserving the original data distribution is important."
   ]
  },
  {
   "cell_type": "code",
   "execution_count": 97,
   "metadata": {},
   "outputs": [],
   "source": [
    "scaler = MinMaxScaler()\n",
    "cols = list(X_train.columns.values[0:16])\n",
    "X_train_scaled = X_train.copy()\n",
    "X_train_scaled[cols] = scaler.fit_transform(X_train[cols])\n",
    "X_test_scaled = X_test.copy()\n",
    "X_test_scaled[cols] = scaler.transform(X_test[cols])\n",
    "X_train_scaled = pd.DataFrame(X_train_scaled, columns= X_train.columns)\n",
    "X_test_scaled = pd.DataFrame(X_test_scaled, columns= X_test.columns)"
   ]
  },
  {
   "attachments": {},
   "cell_type": "markdown",
   "metadata": {},
   "source": [
    "## The Naïve Model \n",
    "\n",
    "This model generates random predictions for the classification problem and then evaluates the accuracy and RMSE of these predictions by comparing them to the true labels. It serves as a baseline for evaluating the performance of more sophisticated models."
   ]
  },
  {
   "cell_type": "code",
   "execution_count": 98,
   "metadata": {},
   "outputs": [
    {
     "name": "stdout",
     "output_type": "stream",
     "text": [
      "Accuracy = 0.3343363109230528\n",
      "RMSE = 1.0726471976640954\n"
     ]
    }
   ],
   "source": [
    "naive = np.random.randint(0, 2, y_test.shape)\n",
    "naive_accuracy = accuracy_score(y_test, naive)\n",
    "naive_rmse = np.sqrt(mean_squared_error(y_test, naive))\n",
    "print(f'Accuracy = {naive_accuracy}')\n",
    "print(f'RMSE = {naive_rmse}')"
   ]
  },
  {
   "attachments": {},
   "cell_type": "markdown",
   "metadata": {},
   "source": [
    "## Random Forest regression\n",
    "\n",
    "The Random Forest model produces a good model for credit classification with an accuracy of 86.99% and a RMSE of 0.4088. An optimised Random Forest model was obtained using GridSearch. The chosen fine-tuned model has no bootstrapping of data, max features 5 and max estimators 30 has a higher accuracy of 87.2% and a lower RMSE of 0.3964 as desired.\n",
    "\n",
    "The model identifies the following features as important predictors in the respective order-interest rate, outstanding debt, delay from due date, credit history age in months, credit mix, number of credit inquiries, changed credit limit, monthly balance, annual income, credit utilization ratio."
   ]
  },
  {
   "cell_type": "code",
   "execution_count": 99,
   "metadata": {},
   "outputs": [
    {
     "name": "stdout",
     "output_type": "stream",
     "text": [
      "Accuracy = 0.8699576868829337\n",
      "RMSE = 0.40888118932810513\n",
      "Classification report:\n",
      "              precision    recall  f1-score   support\n",
      "\n",
      "           0       0.87      0.90      0.89     10715\n",
      "           1       0.86      0.77      0.81     10617\n",
      "           2       0.87      0.94      0.91     10573\n",
      "\n",
      "    accuracy                           0.87     31905\n",
      "   macro avg       0.87      0.87      0.87     31905\n",
      "weighted avg       0.87      0.87      0.87     31905\n",
      "\n"
     ]
    }
   ],
   "source": [
    "RNF = RandomForestClassifier(random_state=42)\n",
    "RNF.fit(X_train_scaled, y_train)\n",
    "y_hat = RNF.predict(X_test_scaled)\n",
    "rnf_accuracy = accuracy_score(y_test, y_hat)\n",
    "rnf_rmse = np.sqrt(mean_squared_error(y_test, y_hat))\n",
    "print(f'Accuracy = {rnf_accuracy}')\n",
    "print(f'RMSE = {rnf_rmse}')\n",
    "print(f'Classification report:\\n{classification_report(y_test, y_hat)}')"
   ]
  },
  {
   "cell_type": "code",
   "execution_count": 100,
   "metadata": {},
   "outputs": [
    {
     "name": "stdout",
     "output_type": "stream",
     "text": [
      "Best parameters: {'bootstrap': False, 'max_features': 5, 'n_estimators': 30}\n",
      "[(0.09025663727360365, 'Interest_Rate'), (0.08833377411158969, 'Outstanding_Debt'), (0.06948328316371134, 'Delay_from_due_date'), (0.06188028403159751, 'Credit_History_Age_in_Months'), (0.04467384749646759, 'Standard'), (0.044031545517140155, 'Num_Credit_Inquiries'), (0.0431030675938813, 'Changed_Credit_Limit'), (0.04062761931091156, 'Monthly_Balance'), (0.040547168942379516, 'Good'), (0.036964067428708204, 'Annual_Income'), (0.03610616229742555, 'Credit_Utilization_Ratio'), (0.033720241212935285, 'Num_Credit_Card'), (0.03326879804220886, 'Amount_invested_monthly'), (0.03281203287619445, 'Num_of_Delayed_Payment'), (0.03176940087076319, 'Age'), (0.0314478050712613, 'Total_EMI_per_month'), (0.03126619178618517, 'Num_Bank_Accounts'), (0.026292206793086317, 'Yes'), (0.021509515083795974, 'Num_of_Loan'), (0.014772966751563811, 'No'), (0.010113949087472169, 'Bad'), (0.009325445397153697, 'LowspentSmallvaluepayments'), (0.0074704062355475925, 'HighspentMediumvaluepayments'), (0.006812146797806339, 'LowspentMediumvaluepayments'), (0.006482354726174492, 'HighspentLargevaluepayments'), (0.006051962638715725, 'HighspentSmallvaluepayments'), (0.005884398952632099, 'Auto Loan'), (0.005773634124201109, 'LowspentLargevaluepayments'), (0.005667736058138767, 'Student Loan'), (0.005571752090889864, 'Debt Consolidation Loan'), (0.005508668058250753, 'Mortgage Loan'), (0.005362094647165459, 'Payday Loan'), (0.005276342790482823, 'Home Equity Loan'), (0.005179982511040639, 'Credit-Builder Loan'), (0.005138106762072873, 'Not Specified'), (0.005132083680662397, 'Personal Loan'), (0.0031216792846219493, 'Scientist'), (0.0030547451294852847, 'Lawyer'), (0.003031099629222577, 'Developer'), (0.0029799672806046784, 'Accountant'), (0.0029761492335210337, 'Mechanic'), (0.002941153965310733, 'Entrepreneur'), (0.0029034445739303198, 'Teacher'), (0.002890355178613225, 'Musician'), (0.0028872080377652437, 'Engineer'), (0.002881061896281953, 'MediaManager'), (0.0028737731578861976, 'Architect'), (0.0028315907241742303, 'Doctor'), (0.0028027003088534792, 'Writer'), (0.0027687340446476607, 'Journalist'), (0.0027452174649130402, 'Manager'), (0.0026934398763513263, 'No Loan')]\n",
      "Accuracy = 0.8719009559630152\n",
      "RMSE = 0.3964266023984402\n"
     ]
    }
   ],
   "source": [
    "param_grid = {'n_estimators': [3, 10, 30],\n",
    "              'max_features': [5, 10, 15, 20],\n",
    "              'bootstrap': [True, False]}\n",
    "grid_forest = GridSearchCV(RNF, param_grid, cv=5, scoring='neg_mean_squared_error', return_train_score=True)\n",
    "grid_forest.fit(X_train_scaled, y_train)\n",
    "print(f'Best parameters: {grid_forest.best_params_}')\n",
    "\n",
    "feature_importances = grid_forest.best_estimator_.feature_importances_\n",
    "print(sorted(zip(feature_importances, X_train.columns), reverse=True))\n",
    "final_rnf_model = grid_forest.best_estimator_\n",
    "\n",
    "final_rnf_predictions = final_rnf_model.predict(X_test_scaled)\n",
    "final_rnf_accuracy = accuracy_score(y_test, final_rnf_predictions)\n",
    "final_rnf_rmse = np.sqrt(mean_squared_error(y_test, final_rnf_predictions))\n",
    "print(f'Accuracy = {final_rnf_accuracy}')\n",
    "print(f'RMSE = {final_rnf_rmse}')"
   ]
  },
  {
   "attachments": {},
   "cell_type": "markdown",
   "metadata": {},
   "source": [
    "## Decision Tree\n",
    "\n",
    "Initially, the standard decision tree model, using maximum features 20, maximum depth, and random state of 42 demonstrated an accuracy of 77.73% and a RMSE (Root Mean Squared Error) of 0.5809. However, through the process of fine-tuning the model using GridSearch, an optimized model was identified. This refined decision tree model achieved an accuracy of 78.74% and a RMSE of 0.5635.\n",
    "\n",
    "Based on the best model from the GridSearch, the top 10 features are as follows:\n",
    "\n",
    "Payment of minimum amount, credit mix, interest rate, outstanding debt, credit history age in months, delay from due date, annual income, changed credit limit, amount invested monthly, total EMI per month."
   ]
  },
  {
   "cell_type": "code",
   "execution_count": 101,
   "metadata": {},
   "outputs": [
    {
     "name": "stdout",
     "output_type": "stream",
     "text": [
      "Accuracy = 0.777276288982918\n",
      "RMSE = 0.5808952339632746\n",
      "Classification report:\n",
      "              precision    recall  f1-score   support\n",
      "\n",
      "           0       0.80      0.78      0.79     10715\n",
      "           1       0.74      0.69      0.71     10617\n",
      "           2       0.79      0.85      0.82     10573\n",
      "\n",
      "    accuracy                           0.78     31905\n",
      "   macro avg       0.78      0.78      0.78     31905\n",
      "weighted avg       0.78      0.78      0.78     31905\n",
      "\n"
     ]
    }
   ],
   "source": [
    "dt = DecisionTreeClassifier(max_features=20, max_depth=15, random_state=42)\n",
    "dt.fit(X_train_scaled, y_train)\n",
    "dt_y_hat = dt.predict(X_test_scaled)\n",
    "dt_accuracy = accuracy_score(y_test, dt_y_hat)\n",
    "dt_rmse = np.sqrt(mean_squared_error(y_test, dt_y_hat))\n",
    "print(f'Accuracy = {dt_accuracy}')\n",
    "print(f'RMSE = {dt_rmse}')\n",
    "print(f'Classification report:\\n{classification_report(y_test, dt_y_hat)}')"
   ]
  },
  {
   "cell_type": "code",
   "execution_count": 102,
   "metadata": {},
   "outputs": [
    {
     "name": "stdout",
     "output_type": "stream",
     "text": [
      "Best parameters: {'max_depth': 20, 'max_features': 20}\n",
      "[(0.1796295572081746, 'No'), (0.09415184530058616, 'Good'), (0.09402673574324481, 'Interest_Rate'), (0.08235284537921804, 'Outstanding_Debt'), (0.07079538119701424, 'Credit_History_Age_in_Months'), (0.03440942178331397, 'Delay_from_due_date'), (0.032044560262849846, 'Annual_Income'), (0.031619436615163796, 'Changed_Credit_Limit'), (0.02949070534361487, 'Standard'), (0.02756362875765923, 'Amount_invested_monthly'), (0.025965127062121656, 'Total_EMI_per_month'), (0.0238213621894478, 'Num_Credit_Card'), (0.022994935549536657, 'Monthly_Balance'), (0.02133146637308227, 'Num_Bank_Accounts'), (0.02109078468436296, 'Num_of_Delayed_Payment'), (0.020867495404136877, 'Age'), (0.02013700481695196, 'Credit_Utilization_Ratio'), (0.0189392466785202, 'Yes'), (0.01555766792357304, 'HighspentMediumvaluepayments'), (0.014841922159031372, 'Num_Credit_Inquiries'), (0.013058865092204103, 'HighspentSmallvaluepayments'), (0.011889571243323887, 'LowspentMediumvaluepayments'), (0.010476125530708409, 'Num_of_Loan'), (0.009423663381318136, 'LowspentSmallvaluepayments'), (0.008640496447928069, 'LowspentLargevaluepayments'), (0.006929674976346785, 'HighspentLargevaluepayments'), (0.0043482420464538455, 'Bad'), (0.0033991762772119503, 'Debt Consolidation Loan'), (0.0033610541920538906, 'Credit-Builder Loan'), (0.002891571593980328, 'Payday Loan'), (0.0026006988455922584, 'Not Specified'), (0.002570138838091418, 'Home Equity Loan'), (0.0025471085995206195, 'Mortgage Loan'), (0.002482659441181989, 'Auto Loan'), (0.002230950510396931, 'Student Loan'), (0.0021821108255501934, 'Manager'), (0.002175764576025492, 'Personal Loan'), (0.0021647530563260967, 'Lawyer'), (0.002065814176376973, 'Journalist'), (0.0020517306559868116, 'Scientist'), (0.0020209315987358076, 'Developer'), (0.0019301936975327418, 'Writer'), (0.0019115814349777833, 'Mechanic'), (0.0018908736755412956, 'Engineer'), (0.0018870410744754402, 'Teacher'), (0.0018865512942885796, 'MediaManager'), (0.0018735527462086044, 'Entrepreneur'), (0.0018478263409282293, 'Accountant'), (0.0017850960915073576, 'Architect'), (0.001578143356583431, 'Doctor'), (0.001189925493091794, 'Musician'), (0.0010769824579462963, 'No Loan')]\n",
      "Accuracy = 0.7873374079297916\n",
      "RMSE = 0.5634759029857203\n"
     ]
    }
   ],
   "source": [
    "param_grid = {'max_features': [10, 15, 20, 25],\n",
    "              'max_depth': [5, 10, 15, 20]}\n",
    "grid_dt = GridSearchCV(dt, param_grid, cv=5, scoring='neg_mean_squared_error', return_train_score=True)\n",
    "grid_dt.fit(X_train_scaled, y_train)\n",
    "print(f'Best parameters: {grid_dt.best_params_}')\n",
    "\n",
    "feature_importances = grid_dt.best_estimator_.feature_importances_\n",
    "print(sorted(zip(feature_importances, X_train.columns), reverse=True))\n",
    "final_dt_model = grid_dt.best_estimator_\n",
    "\n",
    "final_dt_predictions = final_dt_model.predict(X_test_scaled)\n",
    "final_dt_accuracy = accuracy_score(y_test, final_dt_predictions)\n",
    "final_dt_rmse = np.sqrt(mean_squared_error(y_test, final_dt_predictions))\n",
    "print(f'Accuracy = {final_dt_accuracy}')\n",
    "print(f'RMSE = {final_dt_rmse}')"
   ]
  },
  {
   "attachments": {},
   "cell_type": "markdown",
   "metadata": {},
   "source": [
    "Since Random Forest model uses multiple decision trees to obtain a model for the classification problem, it is appropriate to compare the results from this model with those obtained from Decision tree.\n",
    "\n",
    "Both models highlight ‘Interest_Rate', 'Outstanding_Debt', 'Delay_from_due_date' and 'Credit_History_Age_in_Months' 'Num_Credit_Inquiries', 'Credit_Mix', and 'Changed_Credit_Limit’ as notable features for credit score classification.\n",
    "\n",
    "In the decision tree model, the feature 'No' (representing the payment of the minimum amount) is assigned significant importance, ranking as the most influential feature. On the other hand, in the Random Forest model, credit mix has been identified as a more significant factor, receiving higher importance.\n",
    "\n",
    "In the decision tree model, the top 10 features that hold importance include variables such as monthly investment amount, and number of credit cards. However, in the random forest model, these features have been replaced by the inclusion of monthly balance as one of the influential factors.\n",
    "\n",
    "Overall, although there are similarities in the key features between the two models, there are also some differences. The decision tree model seems to focus more on specific features like 'No' and 'Amount_invested_monthly', while the random forest model places higher emphasis on 'Good' and 'Monthly_Balance'. These variations in feature importance rankings can arise from the inherent differences between the models and their training processes.\n",
    "\n",
    "Random forests are considered \"black box\" models. However, it still provides some level of interpretability. You can interpret the importance of each feature in the model, which can help identify key factors that influence credit scoring decisions.\n",
    "\n",
    "Random forests can be sensitive to noisy or irrelevant features in the dataset, which can introduce randomness and decrease overall predictive performance.\n",
    "​\n",
    "Selecting appropriate hyperparameters is crucial for optimal performance. However, due to limited computational power we are only able to test limited combinations of estimators and features."
   ]
  },
  {
   "attachments": {},
   "cell_type": "markdown",
   "metadata": {},
   "source": [
    "## K Neighbours\n",
    "\n",
    "The K Neighbours algorithm initially had the default value for the parameter 'n_neighbors' which resulted in a model with an accuracy of 81.57% and a RMSE value of 0.5192. However, after fine-tuning the model using GridSearch, its performance improved. The refined model achieved a slightly higher accuracy of 82.59% and a comparatively lower RMSE of 0.4955 with the parameter 'n_neighbbors' having an optimal value of 3."
   ]
  },
  {
   "cell_type": "code",
   "execution_count": 103,
   "metadata": {},
   "outputs": [
    {
     "name": "stdout",
     "output_type": "stream",
     "text": [
      "Accuracy = 0.8157028678890456\n",
      "RMSE = 0.5192124519758641\n",
      "Confusion matrix:\n",
      "[[9141  977  597]\n",
      " [1958 7345 1314]\n",
      " [ 310  724 9539]]\n"
     ]
    }
   ],
   "source": [
    "kn = KNeighborsClassifier()\n",
    "kn.fit(X_train_scaled, y_train)\n",
    "kn_y_pred = kn.predict(X_test_scaled)\n",
    "kn_cm = confusion_matrix(y_test,kn_y_pred)\n",
    "kn_accuracy = accuracy_score(y_test,kn_y_pred)\n",
    "kn_rmse = np.sqrt(mean_squared_error(y_test, kn_y_pred))\n",
    "print(f\"Accuracy = {kn_accuracy}\")\n",
    "print(f'RMSE = {kn_rmse}')\n",
    "print(f\"Confusion matrix:\\n{kn_cm}\")"
   ]
  },
  {
   "cell_type": "code",
   "execution_count": 104,
   "metadata": {},
   "outputs": [
    {
     "name": "stdout",
     "output_type": "stream",
     "text": [
      "Best parameters: {'n_neighbors': 3}\n",
      "Accuracy = 0.8259207020843128\n",
      "RMSE = 0.49552139326491257\n"
     ]
    }
   ],
   "source": [
    "param_grid = {'n_neighbors': [3, 5]}\n",
    "grid_knn = GridSearchCV(kn, param_grid, cv=5, scoring='neg_mean_squared_error', return_train_score=True)\n",
    "grid_knn.fit(X_train_scaled, y_train)\n",
    "print(f'Best parameters: {grid_knn.best_params_}')\n",
    "cvres = grid_knn.cv_results_\n",
    "\n",
    "final_knn_model = grid_knn.best_estimator_\n",
    "\n",
    "final_knn_predictions = final_knn_model.predict(X_test_scaled)\n",
    "final_knn_accuracy = accuracy_score(y_test, final_knn_predictions)\n",
    "final_knn_rmse = np.sqrt(mean_squared_error(y_test, final_knn_predictions))\n",
    "print(f'Accuracy = {final_knn_accuracy}')\n",
    "print(f'RMSE = {final_knn_rmse}')"
   ]
  },
  {
   "attachments": {},
   "cell_type": "markdown",
   "metadata": {},
   "source": [
    "## Elastic Net Regression\n",
    "\n",
    "The Elastic Net classifier initially had values for 'alpha' and 'l1_ratio' set to 0.1 and 0.5 respectively which gave a RMSE of 0.6662. After, fine-tuning the model using GridSearch the optimised model gave a lower RMSE of 0.6433 with parameters 'alpha' and 'l1_ration' taking on optimal values of 0.1 and 0.2 respectively."
   ]
  },
  {
   "cell_type": "code",
   "execution_count": 105,
   "metadata": {},
   "outputs": [
    {
     "name": "stdout",
     "output_type": "stream",
     "text": [
      "RMSE = 0.6661530669248653\n"
     ]
    }
   ],
   "source": [
    "elastic_net = ElasticNet(alpha=0.1, l1_ratio=0.5)\n",
    "elastic_net.fit(X_train_scaled,y_train)\n",
    "elastic_pred = elastic_net.predict(X_test_scaled)\n",
    "elastic_rmse = np.sqrt(mean_squared_error(y_test, elastic_pred))\n",
    "print(f'RMSE = {elastic_rmse}')"
   ]
  },
  {
   "attachments": {},
   "cell_type": "markdown",
   "metadata": {},
   "source": [
    "The top 10 features based on this model are 'Interest_Rate', 'Payment_of_Minimum_Amount', 'Delay_from_due_date', 'Credit_History_age_in_months', 'Credit_Mix', 'Num_Credit_Inquires', 'Payment_Behaviour', 'Num_of_Loan', 'Num_Bank_Accounts', and 'Outstanding_Debt'."
   ]
  },
  {
   "cell_type": "code",
   "execution_count": 106,
   "metadata": {},
   "outputs": [
    {
     "name": "stdout",
     "output_type": "stream",
     "text": [
      "Best parameters: {'alpha': 0.1, 'l1_ratio': 0.2}\n",
      "Good                            0.285776\n",
      "Interest_Rate                   0.209333\n",
      "Bad                             0.182955\n",
      "No                              0.151554\n",
      "Yes                             0.119962\n",
      "Delay_from_due_date             0.097452\n",
      "Num_Credit_Inquiries            0.086600\n",
      "Credit_History_Age_in_Months    0.056194\n",
      "Num_of_Loan                     0.045181\n",
      "Num_Bank_Accounts               0.035531\n",
      "Outstanding_Debt                0.027116\n",
      "LowspentSmallvaluepayments      0.019135\n",
      "Auto Loan                       0.009544\n",
      "Personal Loan                   0.004974\n",
      "Debt Consolidation Loan         0.001351\n",
      "Standard                        0.000000\n",
      "HighspentLargevaluepayments     0.000000\n",
      "HighspentMediumvaluepayments    0.000000\n",
      "HighspentSmallvaluepayments     0.000000\n",
      "LowspentMediumvaluepayments     0.000000\n",
      "LowspentLargevaluepayments      0.000000\n",
      "Age                             0.000000\n",
      "Credit-Builder Loan             0.000000\n",
      "Teacher                         0.000000\n",
      "Home Equity Loan                0.000000\n",
      "Mortgage Loan                   0.000000\n",
      "No Loan                         0.000000\n",
      "Not Specified                   0.000000\n",
      "Payday Loan                     0.000000\n",
      "Writer                          0.000000\n",
      "Manager                         0.000000\n",
      "Scientist                       0.000000\n",
      "Architect                       0.000000\n",
      "Num_Credit_Card                 0.000000\n",
      "Num_of_Delayed_Payment          0.000000\n",
      "Changed_Credit_Limit            0.000000\n",
      "Credit_Utilization_Ratio        0.000000\n",
      "Total_EMI_per_month             0.000000\n",
      "Amount_invested_monthly         0.000000\n",
      "Monthly_Balance                 0.000000\n",
      "Accountant                      0.000000\n",
      "Developer                       0.000000\n",
      "Musician                        0.000000\n",
      "Doctor                          0.000000\n",
      "Engineer                        0.000000\n",
      "Entrepreneur                    0.000000\n",
      "Journalist                      0.000000\n",
      "Lawyer                          0.000000\n",
      "Annual_Income                   0.000000\n",
      "Mechanic                        0.000000\n",
      "MediaManager                    0.000000\n",
      "Student Loan                    0.000000\n",
      "dtype: float64\n",
      "RMSE = 0.6432741509420289\n"
     ]
    }
   ],
   "source": [
    "param_grid = {'alpha': [0.1, 0.5, 1.0],\n",
    "              'l1_ratio': [0.2, 0.5, 0.8]}\n",
    "grid_elastic = GridSearchCV(elastic_net, param_grid, cv=5, scoring='neg_mean_squared_error', return_train_score=True)\n",
    "grid_elastic.fit(X_train_scaled, y_train)\n",
    "print(f'Best parameters: {grid_elastic.best_params_}')\n",
    "cvres = grid_elastic.cv_results_\n",
    "\n",
    "final_elastic_model = grid_elastic.best_estimator_\n",
    "feature_importances = pd.Series(data=np.abs(final_elastic_model.coef_), index=X_train_scaled.columns)\n",
    "print(feature_importances.sort_values(ascending=False))\n",
    "\n",
    "final_elastic_predictions = final_elastic_model.predict(X_test_scaled)\n",
    "final_elastic_rmse = np.sqrt(mean_squared_error(y_test, final_elastic_predictions))\n",
    "print(f'RMSE = {final_elastic_rmse}')"
   ]
  },
  {
   "cell_type": "code",
   "execution_count": 107,
   "metadata": {},
   "outputs": [
    {
     "name": "stdout",
     "output_type": "stream",
     "text": [
      "Train: \n",
      "X = (102093, 52)\n",
      "y = (102093,)\n",
      "Credit_Score\n",
      "2    34087\n",
      "1    34050\n",
      "0    33956\n",
      "Name: count, dtype: int64\n",
      "\n",
      "Test: \n",
      "X = (31905, 52)\n",
      "y = (31905,)\n",
      "Credit_Score\n",
      "0    10715\n",
      "1    10617\n",
      "2    10573\n",
      "Name: count, dtype: int64\n",
      "\n",
      "Validation: \n",
      "X = (25524, 52)\n",
      "y = (25524,)\n",
      "Credit_Score\n",
      "2    8514\n",
      "1    8507\n",
      "0    8503\n",
      "Name: count, dtype: int64\n"
     ]
    }
   ],
   "source": [
    "X_train_full, X_test, y_train_full, y_test = train_test_split(X, y, test_size = 0.2, random_state = 42)\n",
    "X_train, X_valid, y_train, y_valid = train_test_split(X_train_full, y_train_full, test_size = 0.2, random_state = 42)\n",
    "print(f'''Train: \\nX = {X_train.shape}\\ny = {y_train.shape}\\n{y_train.value_counts()}\\n\n",
    "Test: \\nX = {X_test.shape}\\ny = {y_test.shape}\\n{y_test.value_counts()}\\n\n",
    "Validation: \\nX = {X_valid.shape}\\ny = {y_valid.shape}\\n{y_valid.value_counts()}''')"
   ]
  },
  {
   "cell_type": "code",
   "execution_count": 108,
   "metadata": {},
   "outputs": [],
   "source": [
    "train_binary_columns = X_train.iloc[:, 16:]\n",
    "valid_binary_columns = X_valid.iloc[:, 16:]\n",
    "test_binary_columns = X_test.iloc[:, 16:]\n",
    "train_non_binary_columns = X_train.iloc[:,:16]\n",
    "valid_non_binary_columns = X_valid.iloc[:, :16]\n",
    "test_non_binary_columns = X_test.iloc[:, :16]"
   ]
  },
  {
   "attachments": {},
   "cell_type": "markdown",
   "metadata": {},
   "source": [
    "## Neural networks\n",
    "\n",
    "Initially, the standard neural network model, demonstrate an accuracy of 33.28% and a RMSE (Root Mean Squared Error) of 0.8169. However, through the process of fine-tuning the model using keras_tuner, an optimized model was identified. This refined model achieved an accuracy of 48.98% and a lower RMSE of 0.5977."
   ]
  },
  {
   "cell_type": "code",
   "execution_count": 109,
   "metadata": {},
   "outputs": [
    {
     "name": "stdout",
     "output_type": "stream",
     "text": [
      "Epoch 1/20\n",
      "3191/3191 [==============================] - 12s 3ms/step - loss: 4360.9771 - root_mean_squared_error: 66.0377 - accuracy: 0.3641 - val_loss: 6.5984 - val_root_mean_squared_error: 2.5687 - val_accuracy: 0.3672\n",
      "Epoch 2/20\n",
      "3191/3191 [==============================] - 9s 3ms/step - loss: 377.8171 - root_mean_squared_error: 19.4375 - accuracy: 0.3645 - val_loss: 0.8366 - val_root_mean_squared_error: 0.9147 - val_accuracy: 0.4227\n",
      "Epoch 3/20\n",
      "3191/3191 [==============================] - 9s 3ms/step - loss: 234.3062 - root_mean_squared_error: 15.3071 - accuracy: 0.3748 - val_loss: 186.2600 - val_root_mean_squared_error: 13.6477 - val_accuracy: 0.3331\n",
      "Epoch 4/20\n",
      "3191/3191 [==============================] - 10s 3ms/step - loss: 100.9104 - root_mean_squared_error: 10.0454 - accuracy: 0.3625 - val_loss: 1.5963 - val_root_mean_squared_error: 1.2634 - val_accuracy: 0.3832\n",
      "Epoch 5/20\n",
      "3191/3191 [==============================] - 10s 3ms/step - loss: 47.2334 - root_mean_squared_error: 6.8727 - accuracy: 0.3677 - val_loss: 1.5988 - val_root_mean_squared_error: 1.2645 - val_accuracy: 0.3544\n",
      "Epoch 6/20\n",
      "3191/3191 [==============================] - 9s 3ms/step - loss: 6.4058 - root_mean_squared_error: 2.5310 - accuracy: 0.3944 - val_loss: 0.5420 - val_root_mean_squared_error: 0.7362 - val_accuracy: 0.4147\n",
      "Epoch 7/20\n",
      "3191/3191 [==============================] - 10s 3ms/step - loss: 2.0511 - root_mean_squared_error: 1.4322 - accuracy: 0.4032 - val_loss: 0.6497 - val_root_mean_squared_error: 0.8061 - val_accuracy: 0.4686\n",
      "Epoch 8/20\n",
      "3191/3191 [==============================] - 9s 3ms/step - loss: 0.6201 - root_mean_squared_error: 0.7875 - accuracy: 0.4149 - val_loss: 0.6963 - val_root_mean_squared_error: 0.8345 - val_accuracy: 0.3730\n",
      "Epoch 9/20\n",
      "3191/3191 [==============================] - 9s 3ms/step - loss: 4.5768 - root_mean_squared_error: 2.1393 - accuracy: 0.3810 - val_loss: 0.5211 - val_root_mean_squared_error: 0.7219 - val_accuracy: 0.4800\n",
      "Epoch 10/20\n",
      "3191/3191 [==============================] - 9s 3ms/step - loss: 0.4852 - root_mean_squared_error: 0.6966 - accuracy: 0.4256 - val_loss: 0.5482 - val_root_mean_squared_error: 0.7404 - val_accuracy: 0.4255\n",
      "Epoch 11/20\n",
      "3191/3191 [==============================] - 9s 3ms/step - loss: 0.5540 - root_mean_squared_error: 0.7443 - accuracy: 0.4076 - val_loss: 0.6667 - val_root_mean_squared_error: 0.8165 - val_accuracy: 0.3333\n",
      "Epoch 12/20\n",
      "3191/3191 [==============================] - 9s 3ms/step - loss: 0.6667 - root_mean_squared_error: 0.8165 - accuracy: 0.3335 - val_loss: 0.6674 - val_root_mean_squared_error: 0.8170 - val_accuracy: 0.3333\n",
      "Epoch 13/20\n",
      "3191/3191 [==============================] - 10s 3ms/step - loss: 0.6668 - root_mean_squared_error: 0.8166 - accuracy: 0.3335 - val_loss: 0.6676 - val_root_mean_squared_error: 0.8171 - val_accuracy: 0.3333\n",
      "Epoch 14/20\n",
      "3191/3191 [==============================] - 9s 3ms/step - loss: 0.6669 - root_mean_squared_error: 0.8167 - accuracy: 0.3335 - val_loss: 0.6667 - val_root_mean_squared_error: 0.8165 - val_accuracy: 0.3333\n",
      "Epoch 15/20\n",
      "3191/3191 [==============================] - 9s 3ms/step - loss: 0.6670 - root_mean_squared_error: 0.8167 - accuracy: 0.3335 - val_loss: 0.6671 - val_root_mean_squared_error: 0.8168 - val_accuracy: 0.3333\n",
      "Epoch 16/20\n",
      "3191/3191 [==============================] - 9s 3ms/step - loss: 0.6670 - root_mean_squared_error: 0.8167 - accuracy: 0.3335 - val_loss: 0.6667 - val_root_mean_squared_error: 0.8165 - val_accuracy: 0.3333\n",
      "Epoch 17/20\n",
      "3191/3191 [==============================] - 9s 3ms/step - loss: 0.6670 - root_mean_squared_error: 0.8167 - accuracy: 0.3335 - val_loss: 0.6672 - val_root_mean_squared_error: 0.8168 - val_accuracy: 0.3333\n",
      "Epoch 18/20\n",
      "3191/3191 [==============================] - 9s 3ms/step - loss: 0.6671 - root_mean_squared_error: 0.8168 - accuracy: 0.3335 - val_loss: 0.6673 - val_root_mean_squared_error: 0.8169 - val_accuracy: 0.3333\n",
      "Epoch 19/20\n",
      "3191/3191 [==============================] - 9s 3ms/step - loss: 0.6669 - root_mean_squared_error: 0.8167 - accuracy: 0.3335 - val_loss: 0.6667 - val_root_mean_squared_error: 0.8165 - val_accuracy: 0.3333\n",
      "Epoch 20/20\n",
      "3191/3191 [==============================] - 9s 3ms/step - loss: 0.6669 - root_mean_squared_error: 0.8166 - accuracy: 0.3335 - val_loss: 0.6669 - val_root_mean_squared_error: 0.8166 - val_accuracy: 0.3333\n",
      "998/998 [==============================] - 2s 2ms/step - loss: 0.6673 - root_mean_squared_error: 0.8169 - accuracy: 0.3328\n",
      "RMSE = 0.8168783187866211\n",
      "Accuracy = 0.33276915550231934\n",
      "['loss', 'root_mean_squared_error', 'accuracy']\n"
     ]
    }
   ],
   "source": [
    "tf.random.set_seed(42)\n",
    "\n",
    "norm_layer = keras.layers.Normalization()\n",
    "\n",
    "X_train = tf.concat([norm_layer(train_non_binary_columns), train_binary_columns], axis=1)\n",
    "\n",
    "X_valid = tf.concat([norm_layer(valid_non_binary_columns), valid_binary_columns], axis=1)\n",
    "\n",
    "X_test = tf.concat([norm_layer(test_non_binary_columns), test_binary_columns], axis=1)\n",
    "\n",
    "model = keras.Sequential([keras.Input(shape=X_train.shape[1:]), \n",
    "                          keras.layers.Dense(50, activation='relu'), \n",
    "                          keras.layers.Dense(50, activation='relu'), \n",
    "                          keras.layers.Dense(50, activation='relu'), \n",
    "                          keras.layers.Dense(1)])\n",
    "optim = keras.optimizers.Adam()\n",
    "model.compile(optimizer=optim, loss='mse', metrics=['RootMeanSquaredError', 'accuracy'])\n",
    "\n",
    "model.fit(X_train, y_train, epochs=20, validation_data=(X_valid, y_valid))\n",
    "\n",
    "nn_scores = model.evaluate(X_test, y_test)\n",
    "print(f'RMSE = {nn_scores[1]}')\n",
    "print(f'Accuracy = {nn_scores[2]}')\n",
    "print(model.metrics_names)"
   ]
  },
  {
   "cell_type": "code",
   "execution_count": 110,
   "metadata": {},
   "outputs": [
    {
     "name": "stdout",
     "output_type": "stream",
     "text": [
      "Trial 10 Complete [00h 03m 56s]\n",
      "val_root_mean_squared_error: 0.5983656644821167\n",
      "\n",
      "Best val_root_mean_squared_error So Far: 0.5983656644821167\n",
      "Total elapsed time: 00h 40m 16s\n",
      "INFO:tensorflow:Oracle triggered exit\n"
     ]
    }
   ],
   "source": [
    "def build_model(hp):\n",
    "    n_hidden = hp.Int('n_hidden', min_value=2, max_value=9)\n",
    "    n_neurons = hp.Int('n_neurons', min_value=16, max_value=256, step=16)\n",
    "    learning_rate = hp.Float('learning_rate', min_value=1e-4, max_value=1e-2, sampling='log')\n",
    "    optimizer_choice = hp.Choice('optimizer_choice', values=['sgd', 'adam'])\n",
    "    \n",
    "    model = keras.models.Sequential()\n",
    "    \n",
    "    model.add(keras.Input(shape=X_train.shape[1:]))\n",
    "    \n",
    "    for layer in range(n_hidden):\n",
    "        model.add(keras.layers.Dense(n_neurons, activation='relu'))\n",
    "    \n",
    "    model.add(keras.layers.Dense(1))\n",
    "    \n",
    "    if optimizer_choice == 'sgd':\n",
    "        optimizer = keras.optimizers.SGD(learning_rate=learning_rate, clipvalue=1.0)\n",
    "    else:\n",
    "        optimizer = keras.optimizers.Adam(learning_rate=learning_rate)\n",
    "    \n",
    "    model.compile(loss='mse', optimizer=optimizer, metrics=['RootMeanSquaredError', 'accuracy'])\n",
    "    return model\n",
    "\n",
    "\n",
    "tuner = kt.RandomSearch(\n",
    "    build_model,\n",
    "    objective=kt.Objective('val_root_mean_squared_error', direction='min'),\n",
    "    overwrite=True,\n",
    "    seed=42\n",
    ")\n",
    "\n",
    "tuner.search(X_train, y_train, epochs=20, validation_data=(X_valid, y_valid))"
   ]
  },
  {
   "cell_type": "code",
   "execution_count": 111,
   "metadata": {},
   "outputs": [
    {
     "name": "stdout",
     "output_type": "stream",
     "text": [
      "WARNING:tensorflow:Detecting that an object or model or tf.train.Checkpoint is being deleted with unrestored values. See the following logs for the specific values in question. To silence these warnings, use `status.expect_partial()`. See https://www.tensorflow.org/api_docs/python/tf/train/Checkpoint#restorefor details about the status object returned by the restore function.\n",
      "WARNING:tensorflow:Value in checkpoint could not be found in the restored object: (root).optimizer._variables.1\n",
      "WARNING:tensorflow:Value in checkpoint could not be found in the restored object: (root).optimizer._variables.2\n",
      "WARNING:tensorflow:Value in checkpoint could not be found in the restored object: (root).optimizer._variables.3\n",
      "WARNING:tensorflow:Value in checkpoint could not be found in the restored object: (root).optimizer._variables.4\n",
      "WARNING:tensorflow:Value in checkpoint could not be found in the restored object: (root).optimizer._variables.5\n",
      "WARNING:tensorflow:Value in checkpoint could not be found in the restored object: (root).optimizer._variables.6\n",
      "WARNING:tensorflow:Value in checkpoint could not be found in the restored object: (root).optimizer._variables.7\n",
      "WARNING:tensorflow:Value in checkpoint could not be found in the restored object: (root).optimizer._variables.8\n",
      "WARNING:tensorflow:Value in checkpoint could not be found in the restored object: (root).optimizer._variables.9\n",
      "WARNING:tensorflow:Value in checkpoint could not be found in the restored object: (root).optimizer._variables.10\n",
      "WARNING:tensorflow:Value in checkpoint could not be found in the restored object: (root).optimizer._variables.11\n",
      "WARNING:tensorflow:Value in checkpoint could not be found in the restored object: (root).optimizer._variables.12\n",
      "WARNING:tensorflow:Value in checkpoint could not be found in the restored object: (root).optimizer._variables.13\n",
      "WARNING:tensorflow:Value in checkpoint could not be found in the restored object: (root).optimizer._variables.14\n",
      "WARNING:tensorflow:Value in checkpoint could not be found in the restored object: (root).optimizer._variables.15\n",
      "WARNING:tensorflow:Value in checkpoint could not be found in the restored object: (root).optimizer._variables.16\n",
      "WARNING:tensorflow:Value in checkpoint could not be found in the restored object: (root).optimizer._variables.17\n",
      "WARNING:tensorflow:Value in checkpoint could not be found in the restored object: (root).optimizer._variables.18\n",
      "WARNING:tensorflow:Value in checkpoint could not be found in the restored object: (root).optimizer._variables.19\n",
      "WARNING:tensorflow:Value in checkpoint could not be found in the restored object: (root).optimizer._variables.20\n",
      "WARNING:tensorflow:Detecting that an object or model or tf.train.Checkpoint is being deleted with unrestored values. See the following logs for the specific values in question. To silence these warnings, use `status.expect_partial()`. See https://www.tensorflow.org/api_docs/python/tf/train/Checkpoint#restorefor details about the status object returned by the restore function.\n",
      "WARNING:tensorflow:Value in checkpoint could not be found in the restored object: (root).optimizer._variables.1\n",
      "WARNING:tensorflow:Value in checkpoint could not be found in the restored object: (root).optimizer._variables.2\n",
      "WARNING:tensorflow:Value in checkpoint could not be found in the restored object: (root).optimizer._variables.3\n",
      "WARNING:tensorflow:Value in checkpoint could not be found in the restored object: (root).optimizer._variables.4\n",
      "WARNING:tensorflow:Value in checkpoint could not be found in the restored object: (root).optimizer._variables.5\n",
      "WARNING:tensorflow:Value in checkpoint could not be found in the restored object: (root).optimizer._variables.6\n",
      "WARNING:tensorflow:Value in checkpoint could not be found in the restored object: (root).optimizer._variables.7\n",
      "WARNING:tensorflow:Value in checkpoint could not be found in the restored object: (root).optimizer._variables.8\n",
      "WARNING:tensorflow:Value in checkpoint could not be found in the restored object: (root).optimizer._variables.9\n",
      "WARNING:tensorflow:Value in checkpoint could not be found in the restored object: (root).optimizer._variables.10\n",
      "WARNING:tensorflow:Value in checkpoint could not be found in the restored object: (root).optimizer._variables.11\n",
      "WARNING:tensorflow:Value in checkpoint could not be found in the restored object: (root).optimizer._variables.12\n",
      "WARNING:tensorflow:Value in checkpoint could not be found in the restored object: (root).optimizer._variables.13\n",
      "WARNING:tensorflow:Value in checkpoint could not be found in the restored object: (root).optimizer._variables.14\n",
      "WARNING:tensorflow:Value in checkpoint could not be found in the restored object: (root).optimizer._variables.15\n",
      "WARNING:tensorflow:Value in checkpoint could not be found in the restored object: (root).optimizer._variables.16\n",
      "WARNING:tensorflow:Value in checkpoint could not be found in the restored object: (root).optimizer._variables.17\n",
      "WARNING:tensorflow:Value in checkpoint could not be found in the restored object: (root).optimizer._variables.18\n",
      "WARNING:tensorflow:Value in checkpoint could not be found in the restored object: (root).optimizer._variables.19\n",
      "WARNING:tensorflow:Value in checkpoint could not be found in the restored object: (root).optimizer._variables.20\n",
      "WARNING:tensorflow:Value in checkpoint could not be found in the restored object: (root).optimizer._variables.21\n",
      "WARNING:tensorflow:Value in checkpoint could not be found in the restored object: (root).optimizer._variables.22\n",
      "WARNING:tensorflow:Value in checkpoint could not be found in the restored object: (root).optimizer._variables.23\n",
      "WARNING:tensorflow:Value in checkpoint could not be found in the restored object: (root).optimizer._variables.24\n",
      "WARNING:tensorflow:Value in checkpoint could not be found in the restored object: (root).optimizer._variables.25\n",
      "WARNING:tensorflow:Value in checkpoint could not be found in the restored object: (root).optimizer._variables.26\n",
      "WARNING:tensorflow:Value in checkpoint could not be found in the restored object: (root).optimizer._variables.27\n",
      "WARNING:tensorflow:Value in checkpoint could not be found in the restored object: (root).optimizer._variables.28\n",
      "WARNING:tensorflow:Value in checkpoint could not be found in the restored object: (root).optimizer._variables.29\n",
      "WARNING:tensorflow:Value in checkpoint could not be found in the restored object: (root).optimizer._variables.30\n",
      "WARNING:tensorflow:Value in checkpoint could not be found in the restored object: (root).optimizer._variables.31\n",
      "WARNING:tensorflow:Value in checkpoint could not be found in the restored object: (root).optimizer._variables.32\n",
      "WARNING:tensorflow:Value in checkpoint could not be found in the restored object: (root).optimizer._variables.33\n",
      "WARNING:tensorflow:Value in checkpoint could not be found in the restored object: (root).optimizer._variables.34\n",
      "WARNING:tensorflow:Value in checkpoint could not be found in the restored object: (root).optimizer._variables.35\n",
      "WARNING:tensorflow:Value in checkpoint could not be found in the restored object: (root).optimizer._variables.36\n",
      "998/998 [==============================] - 3s 3ms/step - loss: 0.3573 - root_mean_squared_error: 0.5977 - accuracy: 0.4898\n",
      "RMSE = 0.5977405309677124\n",
      "Accuracy = 0.48979783058166504\n",
      "['loss', 'root_mean_squared_error', 'accuracy']\n"
     ]
    }
   ],
   "source": [
    "top_models = tuner.get_best_models(num_models=3)\n",
    "best_model = top_models[0]\n",
    "\n",
    "nn_opt_scores = best_model.evaluate(X_test, y_test)\n",
    "print(f'RMSE = {nn_opt_scores[1]}')\n",
    "print(f'Accuracy = {nn_opt_scores[2]}')\n",
    "print(best_model.metrics_names)"
   ]
  },
  {
   "attachments": {},
   "cell_type": "markdown",
   "metadata": {},
   "source": [
    "Through our analysis of the key features across the models that we tested; we have identified key factors that contribute to a higher credit score. These factors include:\n",
    "\n",
    "**Payment History**: Consistently making on-time payments for credit cards, loans.\n",
    "\n",
    "**Credit History Length**: Maintaining a longer credit history demonstrates stability.\n",
    "\n",
    "**Credit Utilization**: Keeping credit card balances low compared to credit limits.\n",
    "\n",
    "**Credit Mix**: Having a diverse range of credit types, such as credit cards, mortgages, and instalment loans.\n",
    "\n",
    "**New Credit inquires**: Avoiding excessive credit inquiries, as it may indicate financial instability.\n",
    "\n",
    "**Interest Rate**: Can have a significant impact on an individual's ability to manage their debts effectively. High interest rates can lead to larger debt burdens and make it more challenging to make timely payments, increasing the risk of delinquency and negatively affecting creditworthiness over time.\n",
    "\n",
    "**Outstanding Debt**: A higher outstanding debt can indicate a greater risk of default or financial stress, potentially leading to a lower credit score. Maintaining a lower debt-to-credit ratio is favourable for credit scoring.\n",
    "\n",
    "**Delays in Payments**: Even a single late payment can have a detrimental effect, although the severity of the impact may vary depending on the scoring model and the specific circumstances. More recent late payments are considered more significant than older ones however since our data is only for a period of 6 months, we assume equal weight to all the months.\n",
    "\n",
    "**Number of Delays in Payments**: Consistently making late payments or having a higher frequency of delayed payments can be a red flag for lenders and negatively affect credit scoring. It indicates a pattern of financial irresponsibility or difficulty in managing debts, which may increase the perceived risk associated with lending to that individual.\n",
    "\n",
    "It is important to note that the severity and duration can also influence the impact of late payments on credit scoring. For example, a payment that is only a few days late may have a lesser impact than one that is significantly overdue or results in debt collection actions.\n",
    "\n",
    "The results of the above models are summarised in the table below"
   ]
  },
  {
   "cell_type": "code",
   "execution_count": 113,
   "metadata": {},
   "outputs": [
    {
     "name": "stdout",
     "output_type": "stream",
     "text": [
      "                                  Accuracy      RMSE\n",
      "Optimised Random forest           0.871901  0.396427\n",
      "Random Forest                     0.869958  0.408881\n",
      "Optimised KNN                     0.825921  0.495521\n",
      "KNN                               0.815703  0.519212\n",
      "Optimised Decision Tree           0.787337  0.563476\n",
      "Decision Tree                     0.777276  0.580895\n",
      "Optimised Neural Network          0.489798  0.597741\n",
      "Optimised Elastic Net Regression       NaN  0.643274\n",
      "Elastic Net Regression                 NaN  0.666153\n",
      "Neural network (3H50N)            0.332769  0.816878\n",
      "Naive                             0.334336  1.072647\n"
     ]
    }
   ],
   "source": [
    "models = ['Naive','Random Forest','Optimised Random forest','Decision Tree','Optimised Decision Tree','KNN','Optimised KNN','Elastic Net Regression','Optimised Elastic Net Regression','Neural network (3H50N)','Optimised Neural Network']\n",
    "cols = ['Accuracy','RMSE']\n",
    "Data_table = pd.DataFrame(data=0, index= models, columns= cols)\n",
    "Data_table['Accuracy'] = [naive_accuracy, rnf_accuracy, final_rnf_accuracy, dt_accuracy, final_dt_accuracy, kn_accuracy, \n",
    "                        final_knn_accuracy, np.NaN, np.NaN, nn_scores[2], nn_opt_scores[2]]\n",
    "Data_table['RMSE'] = [naive_rmse, rnf_rmse, final_rnf_rmse, dt_rmse, final_dt_rmse, kn_rmse, final_knn_rmse, elastic_rmse,\n",
    "                      final_elastic_rmse, nn_scores[1], nn_opt_scores[1]]\n",
    "Data_table = Data_table.sort_values('RMSE', ascending=True)\n",
    "print(Data_table)"
   ]
  },
  {
   "cell_type": "code",
   "execution_count": 115,
   "metadata": {},
   "outputs": [
    {
     "name": "stdout",
     "output_type": "stream",
     "text": [
      "       Score                         Label\n",
      "0   0.090257                 Interest_Rate\n",
      "1   0.088334              Outstanding_Debt\n",
      "2   0.069483           Delay_from_due_date\n",
      "3   0.061880  Credit_History_Age_in_Months\n",
      "4   0.044674                      Standard\n",
      "5   0.044032          Num_Credit_Inquiries\n",
      "6   0.043103          Changed_Credit_Limit\n",
      "7   0.040628               Monthly_Balance\n",
      "8   0.040547                          Good\n",
      "9   0.036964                 Annual_Income\n",
      "10  0.036106      Credit_Utilization_Ratio\n",
      "11  0.033720               Num_Credit_Card\n",
      "12  0.033269       Amount_invested_monthly\n",
      "13  0.032812        Num_of_Delayed_Payment\n",
      "14  0.031769                           Age\n",
      "15  0.031448           Total_EMI_per_month\n",
      "16  0.031266             Num_Bank_Accounts\n",
      "17  0.026292                           Yes\n",
      "18  0.021510                   Num_of_Loan\n",
      "19  0.014773                            No\n",
      "20  0.010114                           Bad\n",
      "21  0.009325    LowspentSmallvaluepayments\n",
      "22  0.007470  HighspentMediumvaluepayments\n",
      "23  0.006812   LowspentMediumvaluepayments\n",
      "24  0.006482   HighspentLargevaluepayments\n",
      "25  0.006052   HighspentSmallvaluepayments\n",
      "26  0.005884                     Auto Loan\n",
      "27  0.005774    LowspentLargevaluepayments\n",
      "28  0.005668                  Student Loan\n",
      "29  0.005572       Debt Consolidation Loan\n",
      "30  0.005509                 Mortgage Loan\n",
      "31  0.005362                   Payday Loan\n",
      "32  0.005276              Home Equity Loan\n",
      "33  0.005180           Credit-Builder Loan\n",
      "34  0.005138                 Not Specified\n",
      "35  0.005132                 Personal Loan\n",
      "36  0.003122                     Scientist\n",
      "37  0.003055                        Lawyer\n",
      "38  0.003031                     Developer\n",
      "39  0.002980                    Accountant\n",
      "40  0.002976                      Mechanic\n",
      "41  0.002941                  Entrepreneur\n",
      "42  0.002903                       Teacher\n",
      "43  0.002890                      Musician\n",
      "44  0.002887                      Engineer\n",
      "45  0.002881                  MediaManager\n",
      "46  0.002874                     Architect\n",
      "47  0.002832                        Doctor\n",
      "48  0.002803                        Writer\n",
      "49  0.002769                    Journalist\n",
      "50  0.002745                       Manager\n",
      "51  0.002693                       No Loan\n"
     ]
    }
   ],
   "source": [
    "df = pd.DataFrame(sorted(zip(grid_forest.best_estimator_.feature_importances_, X_train_scaled.columns), reverse=True), columns=['Score', 'Label'])\n",
    "print(df)"
   ]
  },
  {
   "attachments": {},
   "cell_type": "markdown",
   "metadata": {},
   "source": [
    "# Conclusion\n",
    "\n",
    "From the analysis of the data and the insights from the model, we have identified that interest rate, outstanding debt, delays, credit history, credit mix, credit inquiries, credit limits, income and credit utilization ratio are the primary drivers of an individual’s credit score and through responsible behaviour any individual can upgrade their credit ratings.\n",
    "\n",
    "We have also identified that occupation, payment behaviour and type of loan do not provide much predictive power and may only make the data points more sparse that can potentially affect the results of the models. This is also because the model gives a higher priority to salary derived from occupation, the existence of a good credit mix rather than the exact types of loans taken and the amount and duration of the delay rather than the plain description of the kind of payments the individual does on a regular basis.\n",
    "\n",
    "The adoption of machine learning algorithms for credit score classification is increasingly widespread due to their effectiveness and advantages. One key benefit is their ability to handle large and complex datasets, allowing for more accurate predictions compared to traditional methods. Traditional credit scoring methods have been criticized for perpetuating discrimination and bias, particularly against marginalized groups. Machine learning algorithms can analyse various factors like credit history, income, and debt levels, while minimizing bias and discrimination by focusing on objective variables rather than personal or potentially discriminatory factors such as race, gender, or ethnicity. These models can also adapt and improve over time by incorporating new data and adjusting to changing economic conditions and evolving consumer behaviours. Automated credit score classification systems save time and resources for lenders, enabling faster and more efficient services. However, machine learning algorithms require high-quality and diverse data to ensure accuracy, and the interpretability of these models can be challenging."
   ]
  },
  {
   "attachments": {},
   "cell_type": "markdown",
   "metadata": {},
   "source": [
    "# References\n",
    "\n",
    "Credit score classification (Kaggle): [1](https://www.kaggle.com/datasets/parisrohan/credit-score-classification?resource=download)"
   ]
  },
  {
   "attachments": {},
   "cell_type": "markdown",
   "metadata": {},
   "source": []
  }
 ],
 "metadata": {
  "kernelspec": {
   "display_name": "coursework",
   "language": "python",
   "name": "python3"
  },
  "language_info": {
   "codemirror_mode": {
    "name": "ipython",
    "version": 3
   },
   "file_extension": ".py",
   "mimetype": "text/x-python",
   "name": "python",
   "nbconvert_exporter": "python",
   "pygments_lexer": "ipython3",
   "version": "3.11.4"
  },
  "orig_nbformat": 4
 },
 "nbformat": 4,
 "nbformat_minor": 2
}
