{
 "cells": [
  {
   "cell_type": "code",
   "execution_count": 1,
   "metadata": {},
   "outputs": [],
   "source": [
    "import numpy as np\n",
    "import pandas as pd\n",
    "import matplotlib.pyplot as plt\n",
    "import yfinance as yf\n",
    "import datetime\n",
    "from statsmodels.tsa.stattools import coint\n",
    "\n",
    "plt.style.use('fivethirtyeight')"
   ]
  },
  {
   "cell_type": "code",
   "execution_count": 2,
   "metadata": {},
   "outputs": [
    {
     "name": "stderr",
     "output_type": "stream",
     "text": [
      " BNPQY: No timezone found, symbol may be delisted\n"
     ]
    }
   ],
   "source": [
    "crypto_forex_stocks = ['BTC-USD', 'ETH-USD', 'BNB-USD', 'XRP-USD', 'ADA-USD', 'DOGE-USD', 'ETC-USD', 'XLM-USD', 'AAVE-USD', \n",
    "                       'EOS-USD', 'XTZ-USD', 'ALGO-USD', 'XMR-USD', 'KCS-USD', 'MKR-USD', 'BSV-USD', 'RUNE-USD', 'DASH-USD', \n",
    "                       'KAVA-USD', 'ICX-USD', 'LINA-USD', 'WAXP-USD', 'LSK-USD', 'EWT-USD', 'XCN-USD', 'HIVE-USD', 'FTX-USD', \n",
    "                       'RVN-USD', 'SXP-USD', 'BTCB-USD']\n",
    "bank_stocks = ['JPM', 'BAC', 'WFC', 'C', 'GS', 'MS', 'DB', 'UBS', 'BBVA', 'SAN', 'ING', ' BNPQY', 'HSBC', 'SMFG', 'PNC', 'USB', \n",
    "               'BK', 'STT', 'KEY', 'RF', 'HBAN', 'FITB',  'CFG', 'BLK', 'ALLY', 'MTB', 'NBHC', 'ZION', 'FFIN', 'FHN', 'UBSI', \n",
    "               'WAL', 'PACW', 'SBCF', 'TCBI', 'BOKF', 'PFG', 'GBCI', 'TFC', 'CFR', 'UMBF', 'SPFI', 'FULT', 'ONB', 'INDB', 'IBOC',\n",
    "                'HOMB']\n",
    "global_indexes = ['^DJI', '^IXIC', '^GSPC', '^FTSE', '^N225', '^HSI', '^AXJO', '^KS11', '^BFX', '^N100',\n",
    "                  '^RUT', '^VIX', '^TNX']\n",
    "\n",
    "start = '2021-01-01'\n",
    "end = '2023-12-31'\n",
    "tickers = crypto_forex_stocks + bank_stocks + global_indexes\n",
    "tickers_map = {ticker: yf.Ticker(ticker).history(start=start, end=end) for ticker in tickers}"
   ]
  },
  {
   "cell_type": "code",
   "execution_count": 3,
   "metadata": {},
   "outputs": [],
   "source": [
    "def clean_data(data_map):\n",
    "    for data in data_map.values():\n",
    "        data.index = pd.to_datetime(data.index).tz_localize(None)\n",
    "        \n",
    "    df = pd.concat([data['Close'] for data in data_map.values()], axis=1, keys=data_map.keys())\n",
    "\n",
    "    df.replace([np.inf, -np.inf], np.nan, inplace=True)\n",
    "    df.interpolate(method='linear', inplace=True)\n",
    "    df.fillna(method='pad', inplace=True)\n",
    "    df.fillna(method='bfill', inplace=True)\n",
    "    df.dropna(axis=1, how='all', inplace=True)\n",
    "\n",
    "    return df    "
   ]
  },
  {
   "cell_type": "code",
   "execution_count": 4,
   "metadata": {},
   "outputs": [
    {
     "name": "stdout",
     "output_type": "stream",
     "text": [
      "<class 'pandas.core.frame.DataFrame'>\n",
      "DatetimeIndex: 1094 entries, 2021-01-01 to 2023-12-30\n",
      "Freq: D\n",
      "Data columns (total 89 columns):\n",
      " #   Column    Non-Null Count  Dtype  \n",
      "---  ------    --------------  -----  \n",
      " 0   BTC-USD   1094 non-null   float64\n",
      " 1   ETH-USD   1094 non-null   float64\n",
      " 2   BNB-USD   1094 non-null   float64\n",
      " 3   XRP-USD   1094 non-null   float64\n",
      " 4   ADA-USD   1094 non-null   float64\n",
      " 5   DOGE-USD  1094 non-null   float64\n",
      " 6   ETC-USD   1094 non-null   float64\n",
      " 7   XLM-USD   1094 non-null   float64\n",
      " 8   AAVE-USD  1094 non-null   float64\n",
      " 9   EOS-USD   1094 non-null   float64\n",
      " 10  XTZ-USD   1094 non-null   float64\n",
      " 11  ALGO-USD  1094 non-null   float64\n",
      " 12  XMR-USD   1094 non-null   float64\n",
      " 13  KCS-USD   1094 non-null   float64\n",
      " 14  MKR-USD   1094 non-null   float64\n",
      " 15  BSV-USD   1094 non-null   float64\n",
      " 16  RUNE-USD  1094 non-null   float64\n",
      " 17  DASH-USD  1094 non-null   float64\n",
      " 18  KAVA-USD  1094 non-null   float64\n",
      " 19  ICX-USD   1094 non-null   float64\n",
      " 20  LINA-USD  1094 non-null   float64\n",
      " 21  WAXP-USD  1094 non-null   float64\n",
      " 22  LSK-USD   1094 non-null   float64\n",
      " 23  EWT-USD   1094 non-null   float64\n",
      " 24  XCN-USD   1094 non-null   float64\n",
      " 25  HIVE-USD  1094 non-null   float64\n",
      " 26  FTX-USD   1094 non-null   float64\n",
      " 27  RVN-USD   1094 non-null   float64\n",
      " 28  SXP-USD   1094 non-null   float64\n",
      " 29  BTCB-USD  1094 non-null   float64\n",
      " 30  JPM       1094 non-null   float64\n",
      " 31  BAC       1094 non-null   float64\n",
      " 32  WFC       1094 non-null   float64\n",
      " 33  C         1094 non-null   float64\n",
      " 34  GS        1094 non-null   float64\n",
      " 35  MS        1094 non-null   float64\n",
      " 36  DB        1094 non-null   float64\n",
      " 37  UBS       1094 non-null   float64\n",
      " 38  BBVA      1094 non-null   float64\n",
      " 39  SAN       1094 non-null   float64\n",
      " 40  ING       1094 non-null   float64\n",
      " 41  HSBC      1094 non-null   float64\n",
      " 42  SMFG      1094 non-null   float64\n",
      " 43  PNC       1094 non-null   float64\n",
      " 44  USB       1094 non-null   float64\n",
      " 45  BK        1094 non-null   float64\n",
      " 46  STT       1094 non-null   float64\n",
      " 47  KEY       1094 non-null   float64\n",
      " 48  RF        1094 non-null   float64\n",
      " 49  HBAN      1094 non-null   float64\n",
      " 50  FITB      1094 non-null   float64\n",
      " 51  CFG       1094 non-null   float64\n",
      " 52  BLK       1094 non-null   float64\n",
      " 53  ALLY      1094 non-null   float64\n",
      " 54  MTB       1094 non-null   float64\n",
      " 55  NBHC      1094 non-null   float64\n",
      " 56  ZION      1094 non-null   float64\n",
      " 57  FFIN      1094 non-null   float64\n",
      " 58  FHN       1094 non-null   float64\n",
      " 59  UBSI      1094 non-null   float64\n",
      " 60  WAL       1094 non-null   float64\n",
      " 61  PACW      1094 non-null   float64\n",
      " 62  SBCF      1094 non-null   float64\n",
      " 63  TCBI      1094 non-null   float64\n",
      " 64  BOKF      1094 non-null   float64\n",
      " 65  PFG       1094 non-null   float64\n",
      " 66  GBCI      1094 non-null   float64\n",
      " 67  TFC       1094 non-null   float64\n",
      " 68  CFR       1094 non-null   float64\n",
      " 69  UMBF      1094 non-null   float64\n",
      " 70  SPFI      1094 non-null   float64\n",
      " 71  FULT      1094 non-null   float64\n",
      " 72  ONB       1094 non-null   float64\n",
      " 73  INDB      1094 non-null   float64\n",
      " 74  IBOC      1094 non-null   float64\n",
      " 75  HOMB      1094 non-null   float64\n",
      " 76  ^DJI      1094 non-null   float64\n",
      " 77  ^IXIC     1094 non-null   float64\n",
      " 78  ^GSPC     1094 non-null   float64\n",
      " 79  ^FTSE     1094 non-null   float64\n",
      " 80  ^N225     1094 non-null   float64\n",
      " 81  ^HSI      1094 non-null   float64\n",
      " 82  ^AXJO     1094 non-null   float64\n",
      " 83  ^KS11     1094 non-null   float64\n",
      " 84  ^BFX      1094 non-null   float64\n",
      " 85  ^N100     1094 non-null   float64\n",
      " 86  ^RUT      1094 non-null   float64\n",
      " 87  ^VIX      1094 non-null   float64\n",
      " 88  ^TNX      1094 non-null   float64\n",
      "dtypes: float64(89)\n",
      "memory usage: 769.2 KB\n"
     ]
    }
   ],
   "source": [
    "cleaned_data = clean_data(tickers_map)\n",
    "cleaned_data.info()"
   ]
  },
  {
   "cell_type": "code",
   "execution_count": null,
   "metadata": {},
   "outputs": [],
   "source": []
  }
 ],
 "metadata": {
  "kernelspec": {
   "display_name": "coursework",
   "language": "python",
   "name": "python3"
  },
  "language_info": {
   "codemirror_mode": {
    "name": "ipython",
    "version": 3
   },
   "file_extension": ".py",
   "mimetype": "text/x-python",
   "name": "python",
   "nbconvert_exporter": "python",
   "pygments_lexer": "ipython3",
   "version": "3.11.4"
  },
  "orig_nbformat": 4
 },
 "nbformat": 4,
 "nbformat_minor": 2
}
