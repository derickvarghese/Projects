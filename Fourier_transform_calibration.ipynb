{
 "cells": [
  {
   "cell_type": "code",
   "execution_count": 2,
   "metadata": {},
   "outputs": [],
   "source": [
    "import pandas as pd\n",
    "from scipy import special\n",
    "from scipy import integrate\n",
    "import numpy as np"
   ]
  },
  {
   "cell_type": "code",
   "execution_count": 3,
   "metadata": {},
   "outputs": [],
   "source": [
    "def CharFunc(u, params, type, dt):\n",
    "    if type == 1: # Gaussian distribution\n",
    "        mu, sigma = params[0], params[1]\n",
    "        return np.exp(dt*(1j * u * mu - 0.5 * (sigma**2) * (u**2)))\n",
    "    elif type == 2: # Variance Gamma distribution\n",
    "        mu, theta, sigma, kappa = params[0], params[1], params[2], params[3]\n",
    "        return np.exp(1j * u * mu * dt) * (1 - 1j * u * theta * kappa + 0.5 * (u**2) * (sigma**2) * kappa) ** (-dt / kappa)\n",
    "    elif type == 3: # Normal inverse Gaussian distribution\n",
    "        mu, theta, sigma, kappa = params[0], params[1], params[2], params[3]\n",
    "        return np.exp(1j * u * mu * dt + dt/kappa * (1 - np.sqrt(1 + (u**2) * (sigma**2) * kappa - 2 * 1j * u * theta * kappa)))\n",
    "    elif type == 4: # CGMY distribution\n",
    "        mu, C, G, M, Y = params[0], params[1], params[2], params[3], params[4]\n",
    "        return np.exp(1j * u * mu * dt + C * special.gamma(-Y) * dt * ((M - 1j * u) ** Y - (M**Y) + (G + 1j * u) ** Y - (G**Y)))\n",
    "    elif type == 5: # Merton Jump Diffusion\n",
    "        mu, sigma, l, mu_z, sigma_z = params[0], params[1], params[2], params[3], params[4]\n",
    "        phi_Y = np.exp(1j * u * mu_z - 0.5 * (sigma_z**2) * (u**2))\n",
    "        return np.exp(dt * (1j * u * mu - 0.5 * (sigma**2) * (u**2)) + l * (phi_Y - 1))\n",
    "    elif type == 6: # Kou Jump Diffusion\n",
    "        mu, sigma, l, p, eta1, eta2 = params[0], params[1], params[2], params[3], params[4], params[5]\n",
    "        q = 1 - p\n",
    "        phi_Y = p * eta1/(eta1 * 1j * u) + q * eta2/(eta2 * 1j * u)\n",
    "        return np.exp(dt * (1j * u * mu - 0.5 * (sigma**2) * (u**2)) + l * (phi_Y - 1))\n",
    "    elif type == 7: # Heston\n",
    "        mu, sigma, k, neta, theta, rho = params[0], params[1], params[2], params[3], params[4], params[5]\n",
    "        d = ((rho * theta * u * 1j - k)**2 - (theta**2) * (-1j * u - (u**2))) ** 0.5\n",
    "        rep = k - rho * theta * u * 1j - d\n",
    "        g = rep/(rep + 2 * d)\n",
    "        tmp1 = np.exp(1j * u * mu * dt)\n",
    "        tmp2 = np.exp(neta * k * (theta**-2) * (rep * dt - 2 * np.log((1 - g * np.exp(-d * dt))/(1 - g))))\n",
    "        tmp3 = np.exp(sigma * (theta**-2) * rep * (1 - np.exp(-d * dt))/(1 - g * np.exp(-d * dt)))\n",
    "        return tmp1 * tmp2 * tmp3"
   ]
  },
  {
   "cell_type": "code",
   "execution_count": 4,
   "metadata": {},
   "outputs": [],
   "source": [
    "def call_option_transform(u, K, R):\n",
    "    return (K ** (1 - R - 1j * u))/((1 - R - 1j * u) * (- R - 1j * u))"
   ]
  },
  {
   "cell_type": "code",
   "execution_count": null,
   "metadata": {},
   "outputs": [],
   "source": [
    "S = 100\n",
    "K = 95\n",
    "r = 0.05\n",
    "q = 0\n",
    "R = 1.1\n",
    "T = 1\n",
    "type = 1\n",
    "sigma = 0.2\n",
    "params = sigma\n",
    "\n",
    "if type == 7:\n",
    "    omega = 0\n",
    "else:\n",
    "    omega = np.log(CharFunc(-1j, params, type, 1))\n",
    "\n",
    "mu = r - q - omega\n",
    "s = -np.log(S)\n",
    "ft_call = K * np.exp(-r * T) * np.exp(-R * s)/np.pi * integrate.quadrature(lambda u: (np.exp(-1j * u * s) * \n",
    "                                                                                      CharFunc(u - 1j * R, [mu, params], type, T) * \n",
    "                                                                                      call_option_transform(K, R)).real, 0, np.inf)"
   ]
  }
 ],
 "metadata": {
  "kernelspec": {
   "display_name": "coursework",
   "language": "python",
   "name": "python3"
  },
  "language_info": {
   "codemirror_mode": {
    "name": "ipython",
    "version": 3
   },
   "file_extension": ".py",
   "mimetype": "text/x-python",
   "name": "python",
   "nbconvert_exporter": "python",
   "pygments_lexer": "ipython3",
   "version": "3.11.4"
  },
  "orig_nbformat": 4
 },
 "nbformat": 4,
 "nbformat_minor": 2
}
